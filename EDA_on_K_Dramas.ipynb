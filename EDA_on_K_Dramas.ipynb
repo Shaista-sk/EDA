{
  "nbformat": 4,
  "nbformat_minor": 0,
  "metadata": {
    "colab": {
      "provenance": [],
      "authorship_tag": "ABX9TyOdHb5Oy6CmUzxCRCepngUU",
      "include_colab_link": true
    },
    "kernelspec": {
      "name": "python3",
      "display_name": "Python 3"
    },
    "language_info": {
      "name": "python"
    }
  },
  "cells": [
    {
      "cell_type": "markdown",
      "metadata": {
        "id": "view-in-github",
        "colab_type": "text"
      },
      "source": [
        "<a href=\"https://colab.research.google.com/github/Shaista-sk/EDA/blob/main/EDA_on_K_Dramas.ipynb\" target=\"_parent\"><img src=\"https://colab.research.google.com/assets/colab-badge.svg\" alt=\"Open In Colab\"/></a>"
      ]
    },
    {
      "cell_type": "code",
      "execution_count": null,
      "metadata": {
        "colab": {
          "base_uri": "https://localhost:8080/",
          "height": 73
        },
        "id": "wSsGO26ZjxeP",
        "outputId": "6ba7739e-6b29-455f-d3dd-fc5c6e9ec881"
      },
      "outputs": [
        {
          "output_type": "display_data",
          "data": {
            "text/plain": [
              "<IPython.core.display.HTML object>"
            ],
            "text/html": [
              "\n",
              "     <input type=\"file\" id=\"files-5b258b29-bb50-4bc5-9ed1-49180ead53c4\" name=\"files[]\" multiple disabled\n",
              "        style=\"border:none\" />\n",
              "     <output id=\"result-5b258b29-bb50-4bc5-9ed1-49180ead53c4\">\n",
              "      Upload widget is only available when the cell has been executed in the\n",
              "      current browser session. Please rerun this cell to enable.\n",
              "      </output>\n",
              "      <script>// Copyright 2017 Google LLC\n",
              "//\n",
              "// Licensed under the Apache License, Version 2.0 (the \"License\");\n",
              "// you may not use this file except in compliance with the License.\n",
              "// You may obtain a copy of the License at\n",
              "//\n",
              "//      http://www.apache.org/licenses/LICENSE-2.0\n",
              "//\n",
              "// Unless required by applicable law or agreed to in writing, software\n",
              "// distributed under the License is distributed on an \"AS IS\" BASIS,\n",
              "// WITHOUT WARRANTIES OR CONDITIONS OF ANY KIND, either express or implied.\n",
              "// See the License for the specific language governing permissions and\n",
              "// limitations under the License.\n",
              "\n",
              "/**\n",
              " * @fileoverview Helpers for google.colab Python module.\n",
              " */\n",
              "(function(scope) {\n",
              "function span(text, styleAttributes = {}) {\n",
              "  const element = document.createElement('span');\n",
              "  element.textContent = text;\n",
              "  for (const key of Object.keys(styleAttributes)) {\n",
              "    element.style[key] = styleAttributes[key];\n",
              "  }\n",
              "  return element;\n",
              "}\n",
              "\n",
              "// Max number of bytes which will be uploaded at a time.\n",
              "const MAX_PAYLOAD_SIZE = 100 * 1024;\n",
              "\n",
              "function _uploadFiles(inputId, outputId) {\n",
              "  const steps = uploadFilesStep(inputId, outputId);\n",
              "  const outputElement = document.getElementById(outputId);\n",
              "  // Cache steps on the outputElement to make it available for the next call\n",
              "  // to uploadFilesContinue from Python.\n",
              "  outputElement.steps = steps;\n",
              "\n",
              "  return _uploadFilesContinue(outputId);\n",
              "}\n",
              "\n",
              "// This is roughly an async generator (not supported in the browser yet),\n",
              "// where there are multiple asynchronous steps and the Python side is going\n",
              "// to poll for completion of each step.\n",
              "// This uses a Promise to block the python side on completion of each step,\n",
              "// then passes the result of the previous step as the input to the next step.\n",
              "function _uploadFilesContinue(outputId) {\n",
              "  const outputElement = document.getElementById(outputId);\n",
              "  const steps = outputElement.steps;\n",
              "\n",
              "  const next = steps.next(outputElement.lastPromiseValue);\n",
              "  return Promise.resolve(next.value.promise).then((value) => {\n",
              "    // Cache the last promise value to make it available to the next\n",
              "    // step of the generator.\n",
              "    outputElement.lastPromiseValue = value;\n",
              "    return next.value.response;\n",
              "  });\n",
              "}\n",
              "\n",
              "/**\n",
              " * Generator function which is called between each async step of the upload\n",
              " * process.\n",
              " * @param {string} inputId Element ID of the input file picker element.\n",
              " * @param {string} outputId Element ID of the output display.\n",
              " * @return {!Iterable<!Object>} Iterable of next steps.\n",
              " */\n",
              "function* uploadFilesStep(inputId, outputId) {\n",
              "  const inputElement = document.getElementById(inputId);\n",
              "  inputElement.disabled = false;\n",
              "\n",
              "  const outputElement = document.getElementById(outputId);\n",
              "  outputElement.innerHTML = '';\n",
              "\n",
              "  const pickedPromise = new Promise((resolve) => {\n",
              "    inputElement.addEventListener('change', (e) => {\n",
              "      resolve(e.target.files);\n",
              "    });\n",
              "  });\n",
              "\n",
              "  const cancel = document.createElement('button');\n",
              "  inputElement.parentElement.appendChild(cancel);\n",
              "  cancel.textContent = 'Cancel upload';\n",
              "  const cancelPromise = new Promise((resolve) => {\n",
              "    cancel.onclick = () => {\n",
              "      resolve(null);\n",
              "    };\n",
              "  });\n",
              "\n",
              "  // Wait for the user to pick the files.\n",
              "  const files = yield {\n",
              "    promise: Promise.race([pickedPromise, cancelPromise]),\n",
              "    response: {\n",
              "      action: 'starting',\n",
              "    }\n",
              "  };\n",
              "\n",
              "  cancel.remove();\n",
              "\n",
              "  // Disable the input element since further picks are not allowed.\n",
              "  inputElement.disabled = true;\n",
              "\n",
              "  if (!files) {\n",
              "    return {\n",
              "      response: {\n",
              "        action: 'complete',\n",
              "      }\n",
              "    };\n",
              "  }\n",
              "\n",
              "  for (const file of files) {\n",
              "    const li = document.createElement('li');\n",
              "    li.append(span(file.name, {fontWeight: 'bold'}));\n",
              "    li.append(span(\n",
              "        `(${file.type || 'n/a'}) - ${file.size} bytes, ` +\n",
              "        `last modified: ${\n",
              "            file.lastModifiedDate ? file.lastModifiedDate.toLocaleDateString() :\n",
              "                                    'n/a'} - `));\n",
              "    const percent = span('0% done');\n",
              "    li.appendChild(percent);\n",
              "\n",
              "    outputElement.appendChild(li);\n",
              "\n",
              "    const fileDataPromise = new Promise((resolve) => {\n",
              "      const reader = new FileReader();\n",
              "      reader.onload = (e) => {\n",
              "        resolve(e.target.result);\n",
              "      };\n",
              "      reader.readAsArrayBuffer(file);\n",
              "    });\n",
              "    // Wait for the data to be ready.\n",
              "    let fileData = yield {\n",
              "      promise: fileDataPromise,\n",
              "      response: {\n",
              "        action: 'continue',\n",
              "      }\n",
              "    };\n",
              "\n",
              "    // Use a chunked sending to avoid message size limits. See b/62115660.\n",
              "    let position = 0;\n",
              "    do {\n",
              "      const length = Math.min(fileData.byteLength - position, MAX_PAYLOAD_SIZE);\n",
              "      const chunk = new Uint8Array(fileData, position, length);\n",
              "      position += length;\n",
              "\n",
              "      const base64 = btoa(String.fromCharCode.apply(null, chunk));\n",
              "      yield {\n",
              "        response: {\n",
              "          action: 'append',\n",
              "          file: file.name,\n",
              "          data: base64,\n",
              "        },\n",
              "      };\n",
              "\n",
              "      let percentDone = fileData.byteLength === 0 ?\n",
              "          100 :\n",
              "          Math.round((position / fileData.byteLength) * 100);\n",
              "      percent.textContent = `${percentDone}% done`;\n",
              "\n",
              "    } while (position < fileData.byteLength);\n",
              "  }\n",
              "\n",
              "  // All done.\n",
              "  yield {\n",
              "    response: {\n",
              "      action: 'complete',\n",
              "    }\n",
              "  };\n",
              "}\n",
              "\n",
              "scope.google = scope.google || {};\n",
              "scope.google.colab = scope.google.colab || {};\n",
              "scope.google.colab._files = {\n",
              "  _uploadFiles,\n",
              "  _uploadFilesContinue,\n",
              "};\n",
              "})(self);\n",
              "</script> "
            ]
          },
          "metadata": {}
        },
        {
          "output_type": "stream",
          "name": "stdout",
          "text": [
            "Saving kdrama_DATASET.csv to kdrama_DATASET.csv\n"
          ]
        }
      ],
      "source": [
        "from google.colab import files\n",
        "\n",
        "# Upload file manually\n",
        "uploaded = files.upload()"
      ]
    },
    {
      "cell_type": "code",
      "source": [
        "\n",
        "\n",
        "#for data manipulation\n",
        "import pandas as pd\n",
        "\n",
        "#for numerical operations\n",
        "import numpy as np\n",
        "\n",
        "#for visualization\n",
        "import matplotlib.pyplot as plt\n",
        "\n",
        "#for visualization\n",
        "import seaborn as sns\n",
        "\n",
        "\n",
        "print(\"Setup Complete\")\n",
        "\n",
        "df = pd.read_csv(\"kdrama_DATASET.csv\")\n"
      ],
      "metadata": {
        "id": "G85brTR3keSA",
        "colab": {
          "base_uri": "https://localhost:8080/"
        },
        "outputId": "0bd57abc-6e0a-4053-8a7f-4c52fff53e82"
      },
      "execution_count": null,
      "outputs": [
        {
          "output_type": "stream",
          "name": "stdout",
          "text": [
            "Setup Complete\n"
          ]
        }
      ]
    },
    {
      "cell_type": "markdown",
      "source": [
        "# **Basic Info**"
      ],
      "metadata": {
        "id": "Ilp_6xUsktLG"
      }
    },
    {
      "cell_type": "code",
      "source": [
        "print(\"Shape of dataset:\", df.shape)"
      ],
      "metadata": {
        "colab": {
          "base_uri": "https://localhost:8080/"
        },
        "id": "XXHqOu-4kouV",
        "outputId": "f2d8182c-e1c9-4bb8-e8cd-5fe449f3ce60"
      },
      "execution_count": null,
      "outputs": [
        {
          "output_type": "stream",
          "name": "stdout",
          "text": [
            "Shape of dataset: (350, 9)\n"
          ]
        }
      ]
    },
    {
      "cell_type": "code",
      "source": [
        "print(\"\\nInfo:\")\n",
        "df.info()"
      ],
      "metadata": {
        "colab": {
          "base_uri": "https://localhost:8080/"
        },
        "id": "Wnag_GxRk7nP",
        "outputId": "0edbe969-b214-4c03-99b9-48ac7fd60cb9"
      },
      "execution_count": null,
      "outputs": [
        {
          "output_type": "stream",
          "name": "stdout",
          "text": [
            "\n",
            "Info:\n",
            "<class 'pandas.core.frame.DataFrame'>\n",
            "RangeIndex: 350 entries, 0 to 349\n",
            "Data columns (total 9 columns):\n",
            " #   Column              Non-Null Count  Dtype  \n",
            "---  ------              --------------  -----  \n",
            " 0   Rank                350 non-null    object \n",
            " 1   Title               350 non-null    object \n",
            " 2   Year of release     350 non-null    int64  \n",
            " 3   Number of Episodes  350 non-null    int64  \n",
            " 4   Rating              350 non-null    float64\n",
            " 5   Description         350 non-null    object \n",
            " 6   Genre               350 non-null    object \n",
            " 7   Tags                350 non-null    object \n",
            " 8   Actors              350 non-null    object \n",
            "dtypes: float64(1), int64(2), object(6)\n",
            "memory usage: 24.7+ KB\n"
          ]
        }
      ]
    },
    {
      "cell_type": "code",
      "source": [
        "df.head()"
      ],
      "metadata": {
        "colab": {
          "base_uri": "https://localhost:8080/",
          "height": 397
        },
        "id": "z2_g3_xclWry",
        "outputId": "b33b7902-5608-4067-e853-b5bd26ef7067"
      },
      "execution_count": null,
      "outputs": [
        {
          "output_type": "execute_result",
          "data": {
            "text/plain": [
              "  Rank                             Title  Year of release  Number of Episodes  \\\n",
              "0   #1                    Move to Heaven             2021                  10   \n",
              "1   #2              Twinkling Watermelon             2023                  16   \n",
              "2   #3                            Moving             2023                  20   \n",
              "3   #4  The Trauma Code: Heroes on Call              2025                   8   \n",
              "4   #5                    Flower of Evil             2020                  16   \n",
              "\n",
              "   Rating                                        Description  \\\n",
              "0     9.2  Geu Roo is a young autistic man. He works for ...   \n",
              "1     9.2  In 2023, high school student Eun Gyeol, a CODA...   \n",
              "2     9.1  Kim Bong Seok, Jang Hui Su, and Lee Gang Hun, ...   \n",
              "3     9.1  Baek Gang Hyeok, a genius trauma surgeon with ...   \n",
              "4     9.1  Although Baek Hee Sung is hiding a dark secret...   \n",
              "\n",
              "                                     Genre  \\\n",
              "0                   Life,  Drama,  Family    \n",
              "1           Romance, Youth, Drama, Fantasy   \n",
              "2  Action, Thriller, Mystery, Supernatural   \n",
              "3           Action, Comedy, Drama, Medical   \n",
              "4  Thriller,  Romance,  Crime,  Melodrama    \n",
              "\n",
              "                                                Tags  \\\n",
              "0  Autism, Uncle-Nephew Relationship, Death, Sava...   \n",
              "1  Time Travel, Child From The Future, Sign Langu...   \n",
              "2  Graphic Violence, Supernatural Power, Multiple...   \n",
              "3  Surgeon Male Lead, Hospital Setting, Mentor-Me...   \n",
              "4  Married Couple, Deception, Suspense, Family Se...   \n",
              "\n",
              "                                              Actors  \n",
              "0  Lee Je Hoon, Tang Jun Sang, Hong Seung Hee, Ju...  \n",
              "1  Ha Eun-Gyeol, Ha Yi-Chan, Choi Se-Kyung, Yoon ...  \n",
              "2           Ryu Seung Ryong, Han Hyo Joo, Zo In Sung  \n",
              "3  Ju Ji Hoon, Choo Young Woo, Ha Young, Yoon Gyu...  \n",
              "4  Lee Joon Gi, Moon Chae Won, Jang Hee Jin, Seo ...  "
            ],
            "text/html": [
              "\n",
              "  <div id=\"df-250058fa-bd8e-45d8-9c76-1ff723cf79a0\" class=\"colab-df-container\">\n",
              "    <div>\n",
              "<style scoped>\n",
              "    .dataframe tbody tr th:only-of-type {\n",
              "        vertical-align: middle;\n",
              "    }\n",
              "\n",
              "    .dataframe tbody tr th {\n",
              "        vertical-align: top;\n",
              "    }\n",
              "\n",
              "    .dataframe thead th {\n",
              "        text-align: right;\n",
              "    }\n",
              "</style>\n",
              "<table border=\"1\" class=\"dataframe\">\n",
              "  <thead>\n",
              "    <tr style=\"text-align: right;\">\n",
              "      <th></th>\n",
              "      <th>Rank</th>\n",
              "      <th>Title</th>\n",
              "      <th>Year of release</th>\n",
              "      <th>Number of Episodes</th>\n",
              "      <th>Rating</th>\n",
              "      <th>Description</th>\n",
              "      <th>Genre</th>\n",
              "      <th>Tags</th>\n",
              "      <th>Actors</th>\n",
              "    </tr>\n",
              "  </thead>\n",
              "  <tbody>\n",
              "    <tr>\n",
              "      <th>0</th>\n",
              "      <td>#1</td>\n",
              "      <td>Move to Heaven</td>\n",
              "      <td>2021</td>\n",
              "      <td>10</td>\n",
              "      <td>9.2</td>\n",
              "      <td>Geu Roo is a young autistic man. He works for ...</td>\n",
              "      <td>Life,  Drama,  Family</td>\n",
              "      <td>Autism, Uncle-Nephew Relationship, Death, Sava...</td>\n",
              "      <td>Lee Je Hoon, Tang Jun Sang, Hong Seung Hee, Ju...</td>\n",
              "    </tr>\n",
              "    <tr>\n",
              "      <th>1</th>\n",
              "      <td>#2</td>\n",
              "      <td>Twinkling Watermelon</td>\n",
              "      <td>2023</td>\n",
              "      <td>16</td>\n",
              "      <td>9.2</td>\n",
              "      <td>In 2023, high school student Eun Gyeol, a CODA...</td>\n",
              "      <td>Romance, Youth, Drama, Fantasy</td>\n",
              "      <td>Time Travel, Child From The Future, Sign Langu...</td>\n",
              "      <td>Ha Eun-Gyeol, Ha Yi-Chan, Choi Se-Kyung, Yoon ...</td>\n",
              "    </tr>\n",
              "    <tr>\n",
              "      <th>2</th>\n",
              "      <td>#3</td>\n",
              "      <td>Moving</td>\n",
              "      <td>2023</td>\n",
              "      <td>20</td>\n",
              "      <td>9.1</td>\n",
              "      <td>Kim Bong Seok, Jang Hui Su, and Lee Gang Hun, ...</td>\n",
              "      <td>Action, Thriller, Mystery, Supernatural</td>\n",
              "      <td>Graphic Violence, Supernatural Power, Multiple...</td>\n",
              "      <td>Ryu Seung Ryong, Han Hyo Joo, Zo In Sung</td>\n",
              "    </tr>\n",
              "    <tr>\n",
              "      <th>3</th>\n",
              "      <td>#4</td>\n",
              "      <td>The Trauma Code: Heroes on Call</td>\n",
              "      <td>2025</td>\n",
              "      <td>8</td>\n",
              "      <td>9.1</td>\n",
              "      <td>Baek Gang Hyeok, a genius trauma surgeon with ...</td>\n",
              "      <td>Action, Comedy, Drama, Medical</td>\n",
              "      <td>Surgeon Male Lead, Hospital Setting, Mentor-Me...</td>\n",
              "      <td>Ju Ji Hoon, Choo Young Woo, Ha Young, Yoon Gyu...</td>\n",
              "    </tr>\n",
              "    <tr>\n",
              "      <th>4</th>\n",
              "      <td>#5</td>\n",
              "      <td>Flower of Evil</td>\n",
              "      <td>2020</td>\n",
              "      <td>16</td>\n",
              "      <td>9.1</td>\n",
              "      <td>Although Baek Hee Sung is hiding a dark secret...</td>\n",
              "      <td>Thriller,  Romance,  Crime,  Melodrama</td>\n",
              "      <td>Married Couple, Deception, Suspense, Family Se...</td>\n",
              "      <td>Lee Joon Gi, Moon Chae Won, Jang Hee Jin, Seo ...</td>\n",
              "    </tr>\n",
              "  </tbody>\n",
              "</table>\n",
              "</div>\n",
              "    <div class=\"colab-df-buttons\">\n",
              "\n",
              "  <div class=\"colab-df-container\">\n",
              "    <button class=\"colab-df-convert\" onclick=\"convertToInteractive('df-250058fa-bd8e-45d8-9c76-1ff723cf79a0')\"\n",
              "            title=\"Convert this dataframe to an interactive table.\"\n",
              "            style=\"display:none;\">\n",
              "\n",
              "  <svg xmlns=\"http://www.w3.org/2000/svg\" height=\"24px\" viewBox=\"0 -960 960 960\">\n",
              "    <path d=\"M120-120v-720h720v720H120Zm60-500h600v-160H180v160Zm220 220h160v-160H400v160Zm0 220h160v-160H400v160ZM180-400h160v-160H180v160Zm440 0h160v-160H620v160ZM180-180h160v-160H180v160Zm440 0h160v-160H620v160Z\"/>\n",
              "  </svg>\n",
              "    </button>\n",
              "\n",
              "  <style>\n",
              "    .colab-df-container {\n",
              "      display:flex;\n",
              "      gap: 12px;\n",
              "    }\n",
              "\n",
              "    .colab-df-convert {\n",
              "      background-color: #E8F0FE;\n",
              "      border: none;\n",
              "      border-radius: 50%;\n",
              "      cursor: pointer;\n",
              "      display: none;\n",
              "      fill: #1967D2;\n",
              "      height: 32px;\n",
              "      padding: 0 0 0 0;\n",
              "      width: 32px;\n",
              "    }\n",
              "\n",
              "    .colab-df-convert:hover {\n",
              "      background-color: #E2EBFA;\n",
              "      box-shadow: 0px 1px 2px rgba(60, 64, 67, 0.3), 0px 1px 3px 1px rgba(60, 64, 67, 0.15);\n",
              "      fill: #174EA6;\n",
              "    }\n",
              "\n",
              "    .colab-df-buttons div {\n",
              "      margin-bottom: 4px;\n",
              "    }\n",
              "\n",
              "    [theme=dark] .colab-df-convert {\n",
              "      background-color: #3B4455;\n",
              "      fill: #D2E3FC;\n",
              "    }\n",
              "\n",
              "    [theme=dark] .colab-df-convert:hover {\n",
              "      background-color: #434B5C;\n",
              "      box-shadow: 0px 1px 3px 1px rgba(0, 0, 0, 0.15);\n",
              "      filter: drop-shadow(0px 1px 2px rgba(0, 0, 0, 0.3));\n",
              "      fill: #FFFFFF;\n",
              "    }\n",
              "  </style>\n",
              "\n",
              "    <script>\n",
              "      const buttonEl =\n",
              "        document.querySelector('#df-250058fa-bd8e-45d8-9c76-1ff723cf79a0 button.colab-df-convert');\n",
              "      buttonEl.style.display =\n",
              "        google.colab.kernel.accessAllowed ? 'block' : 'none';\n",
              "\n",
              "      async function convertToInteractive(key) {\n",
              "        const element = document.querySelector('#df-250058fa-bd8e-45d8-9c76-1ff723cf79a0');\n",
              "        const dataTable =\n",
              "          await google.colab.kernel.invokeFunction('convertToInteractive',\n",
              "                                                    [key], {});\n",
              "        if (!dataTable) return;\n",
              "\n",
              "        const docLinkHtml = 'Like what you see? Visit the ' +\n",
              "          '<a target=\"_blank\" href=https://colab.research.google.com/notebooks/data_table.ipynb>data table notebook</a>'\n",
              "          + ' to learn more about interactive tables.';\n",
              "        element.innerHTML = '';\n",
              "        dataTable['output_type'] = 'display_data';\n",
              "        await google.colab.output.renderOutput(dataTable, element);\n",
              "        const docLink = document.createElement('div');\n",
              "        docLink.innerHTML = docLinkHtml;\n",
              "        element.appendChild(docLink);\n",
              "      }\n",
              "    </script>\n",
              "  </div>\n",
              "\n",
              "\n",
              "    <div id=\"df-26ade60e-5bbe-4983-a4e0-d45c5197a47e\">\n",
              "      <button class=\"colab-df-quickchart\" onclick=\"quickchart('df-26ade60e-5bbe-4983-a4e0-d45c5197a47e')\"\n",
              "                title=\"Suggest charts\"\n",
              "                style=\"display:none;\">\n",
              "\n",
              "<svg xmlns=\"http://www.w3.org/2000/svg\" height=\"24px\"viewBox=\"0 0 24 24\"\n",
              "     width=\"24px\">\n",
              "    <g>\n",
              "        <path d=\"M19 3H5c-1.1 0-2 .9-2 2v14c0 1.1.9 2 2 2h14c1.1 0 2-.9 2-2V5c0-1.1-.9-2-2-2zM9 17H7v-7h2v7zm4 0h-2V7h2v10zm4 0h-2v-4h2v4z\"/>\n",
              "    </g>\n",
              "</svg>\n",
              "      </button>\n",
              "\n",
              "<style>\n",
              "  .colab-df-quickchart {\n",
              "      --bg-color: #E8F0FE;\n",
              "      --fill-color: #1967D2;\n",
              "      --hover-bg-color: #E2EBFA;\n",
              "      --hover-fill-color: #174EA6;\n",
              "      --disabled-fill-color: #AAA;\n",
              "      --disabled-bg-color: #DDD;\n",
              "  }\n",
              "\n",
              "  [theme=dark] .colab-df-quickchart {\n",
              "      --bg-color: #3B4455;\n",
              "      --fill-color: #D2E3FC;\n",
              "      --hover-bg-color: #434B5C;\n",
              "      --hover-fill-color: #FFFFFF;\n",
              "      --disabled-bg-color: #3B4455;\n",
              "      --disabled-fill-color: #666;\n",
              "  }\n",
              "\n",
              "  .colab-df-quickchart {\n",
              "    background-color: var(--bg-color);\n",
              "    border: none;\n",
              "    border-radius: 50%;\n",
              "    cursor: pointer;\n",
              "    display: none;\n",
              "    fill: var(--fill-color);\n",
              "    height: 32px;\n",
              "    padding: 0;\n",
              "    width: 32px;\n",
              "  }\n",
              "\n",
              "  .colab-df-quickchart:hover {\n",
              "    background-color: var(--hover-bg-color);\n",
              "    box-shadow: 0 1px 2px rgba(60, 64, 67, 0.3), 0 1px 3px 1px rgba(60, 64, 67, 0.15);\n",
              "    fill: var(--button-hover-fill-color);\n",
              "  }\n",
              "\n",
              "  .colab-df-quickchart-complete:disabled,\n",
              "  .colab-df-quickchart-complete:disabled:hover {\n",
              "    background-color: var(--disabled-bg-color);\n",
              "    fill: var(--disabled-fill-color);\n",
              "    box-shadow: none;\n",
              "  }\n",
              "\n",
              "  .colab-df-spinner {\n",
              "    border: 2px solid var(--fill-color);\n",
              "    border-color: transparent;\n",
              "    border-bottom-color: var(--fill-color);\n",
              "    animation:\n",
              "      spin 1s steps(1) infinite;\n",
              "  }\n",
              "\n",
              "  @keyframes spin {\n",
              "    0% {\n",
              "      border-color: transparent;\n",
              "      border-bottom-color: var(--fill-color);\n",
              "      border-left-color: var(--fill-color);\n",
              "    }\n",
              "    20% {\n",
              "      border-color: transparent;\n",
              "      border-left-color: var(--fill-color);\n",
              "      border-top-color: var(--fill-color);\n",
              "    }\n",
              "    30% {\n",
              "      border-color: transparent;\n",
              "      border-left-color: var(--fill-color);\n",
              "      border-top-color: var(--fill-color);\n",
              "      border-right-color: var(--fill-color);\n",
              "    }\n",
              "    40% {\n",
              "      border-color: transparent;\n",
              "      border-right-color: var(--fill-color);\n",
              "      border-top-color: var(--fill-color);\n",
              "    }\n",
              "    60% {\n",
              "      border-color: transparent;\n",
              "      border-right-color: var(--fill-color);\n",
              "    }\n",
              "    80% {\n",
              "      border-color: transparent;\n",
              "      border-right-color: var(--fill-color);\n",
              "      border-bottom-color: var(--fill-color);\n",
              "    }\n",
              "    90% {\n",
              "      border-color: transparent;\n",
              "      border-bottom-color: var(--fill-color);\n",
              "    }\n",
              "  }\n",
              "</style>\n",
              "\n",
              "      <script>\n",
              "        async function quickchart(key) {\n",
              "          const quickchartButtonEl =\n",
              "            document.querySelector('#' + key + ' button');\n",
              "          quickchartButtonEl.disabled = true;  // To prevent multiple clicks.\n",
              "          quickchartButtonEl.classList.add('colab-df-spinner');\n",
              "          try {\n",
              "            const charts = await google.colab.kernel.invokeFunction(\n",
              "                'suggestCharts', [key], {});\n",
              "          } catch (error) {\n",
              "            console.error('Error during call to suggestCharts:', error);\n",
              "          }\n",
              "          quickchartButtonEl.classList.remove('colab-df-spinner');\n",
              "          quickchartButtonEl.classList.add('colab-df-quickchart-complete');\n",
              "        }\n",
              "        (() => {\n",
              "          let quickchartButtonEl =\n",
              "            document.querySelector('#df-26ade60e-5bbe-4983-a4e0-d45c5197a47e button');\n",
              "          quickchartButtonEl.style.display =\n",
              "            google.colab.kernel.accessAllowed ? 'block' : 'none';\n",
              "        })();\n",
              "      </script>\n",
              "    </div>\n",
              "\n",
              "    </div>\n",
              "  </div>\n"
            ],
            "application/vnd.google.colaboratory.intrinsic+json": {
              "type": "dataframe",
              "variable_name": "df",
              "summary": "{\n  \"name\": \"df\",\n  \"rows\": 350,\n  \"fields\": [\n    {\n      \"column\": \"Rank\",\n      \"properties\": {\n        \"dtype\": \"string\",\n        \"num_unique_values\": 350,\n        \"samples\": [\n          \"#158\",\n          \"#342\",\n          \"#316\"\n        ],\n        \"semantic_type\": \"\",\n        \"description\": \"\"\n      }\n    },\n    {\n      \"column\": \"Title\",\n      \"properties\": {\n        \"dtype\": \"string\",\n        \"num_unique_values\": 350,\n        \"samples\": [\n          \"Yumi's Cells\",\n          \"Strangers Again\",\n          \"Love Song for Illusion\"\n        ],\n        \"semantic_type\": \"\",\n        \"description\": \"\"\n      }\n    },\n    {\n      \"column\": \"Year of release\",\n      \"properties\": {\n        \"dtype\": \"number\",\n        \"std\": 3,\n        \"min\": 2003,\n        \"max\": 2025,\n        \"num_unique_values\": 20,\n        \"samples\": [\n          2021,\n          2010,\n          2009\n        ],\n        \"semantic_type\": \"\",\n        \"description\": \"\"\n      }\n    },\n    {\n      \"column\": \"Number of Episodes\",\n      \"properties\": {\n        \"dtype\": \"number\",\n        \"std\": 14,\n        \"min\": 1,\n        \"max\": 133,\n        \"num_unique_values\": 33,\n        \"samples\": [\n          128,\n          54,\n          1\n        ],\n        \"semantic_type\": \"\",\n        \"description\": \"\"\n      }\n    },\n    {\n      \"column\": \"Rating\",\n      \"properties\": {\n        \"dtype\": \"number\",\n        \"std\": 0.45470398084070696,\n        \"min\": 6.4,\n        \"max\": 9.2,\n        \"num_unique_values\": 25,\n        \"samples\": [\n          8.4,\n          7.6,\n          9.2\n        ],\n        \"semantic_type\": \"\",\n        \"description\": \"\"\n      }\n    },\n    {\n      \"column\": \"Description\",\n      \"properties\": {\n        \"dtype\": \"string\",\n        \"num_unique_values\": 350,\n        \"samples\": [\n          \"Controlled by a complex network of cells, each and every human on the planet is kept running by an unseen operating system that is, for the most part, completely ignored. Though humans never give much thought to how they manage to function, day in and day out, the cells within the human body are constantly at work, doing their part to keep their human alive and well. Which is why on the outside, Kim Yoo Mi may appear to be just like every other single working woman in the world, but underneath that ordinary exterior lies something truly extraordinary. \",\n          \"Oh Ha Ra is a hotshot divorce lawyer whose nickname in legal circles is \\u201cthe \\u201cgoddess of litigation.\\u201d One of the reasons she is such a dab hand at divorce proceedings, perhaps, is the fact that she has divorced her long-time lover and fellow lawyer Goo Eun Beom. But her relatively uneventful life is turned upside down when she is unexpectedly reunited with her ex-husband \\u2013 in the law courts! The duo is forced to work together \\u2013 leading them to butt heads and reignite past grievances. While their professionalism prevents them from telling each other what they really think in public, tempers begin to fray...and risk boiling over. The tense atmosphere is not relieved in the slightest by fellow divorce lawyers Kang Bi Chwi and Kwon Si Wook, another pair of advocates who always seem to get under one another\\u2019s skin! Will Cupid rescue this group of lawyers \\u2013 or will chaos break loose in the courtroom?\",\n          \"Crown Prince Sajo Hyun secretly works as a fashion designer in a downtown boutique, hiding his royal identity. He's haunted by a deep childhood wound from his harsh father, Sajo Seung. Hyun also has another persona, Ak Hee, a charming seducer cursed with pain from any physical touch. Yeon Wol, the royal heir of the fallen Yeon Dynasty, lives a life full of twists\\u2014going from assassin to concubine. Disguised as Gye Ra, she seeks revenge for her family, but after an assassination attempt on the king goes wrong, she wakes up with no memory of her past.\"\n        ],\n        \"semantic_type\": \"\",\n        \"description\": \"\"\n      }\n    },\n    {\n      \"column\": \"Genre\",\n      \"properties\": {\n        \"dtype\": \"string\",\n        \"num_unique_values\": 265,\n        \"samples\": [\n          \"Music, Psychological, Drama, Fantasy\",\n          \"Romance, Drama, Melodrama, Supernatural\",\n          \"Mystery,  Comedy,  Family,  Fantasy \"\n        ],\n        \"semantic_type\": \"\",\n        \"description\": \"\"\n      }\n    },\n    {\n      \"column\": \"Tags\",\n      \"properties\": {\n        \"dtype\": \"string\",\n        \"num_unique_values\": 350,\n        \"samples\": [\n          \"Career Woman, Slice Of Life, Friendship, Mixed Live Action-Animation, Office Worker, Workplace, Adapted From A Webtoon, Honest Male Lead, Game Developer, Personal Growth\",\n          \"Bickering Mains' Relationship, Ex-spouse Relationship, Unhealthy Mains' Relationship, Second Chance Romance, Love/Hate Relationship, Co-workers' Relationship, Miscommunication, Slight Comedy, Secondary Couple, Flashback To Past \",\n          \"Dissociative Identity Disorder, Revenge, Adapted From A Webtoon, Concubine Female Lead, Manipulative Male Lead, Historical Fiction, Trauma, Curse, Physically Strong Female Lead, Physically Strong Male Lead\"\n        ],\n        \"semantic_type\": \"\",\n        \"description\": \"\"\n      }\n    },\n    {\n      \"column\": \"Actors\",\n      \"properties\": {\n        \"dtype\": \"string\",\n        \"num_unique_values\": 349,\n        \"samples\": [\n          \"Jeon Do Yeon, Ryu Joon Yeol, Park Byung Eun, Kim Hyo Jin, Park Ji Young, Park In Hwan\",\n          \"Lee Yun Hee, Hong Jong Hyun, Moon So Ri, U-Know\",\n          \"Ryu Jun Yeol, Chun Woo Hee, Park Jeong Min, Lee Yeol Eum, Park Hae Joon, Lee Joo Young\"\n        ],\n        \"semantic_type\": \"\",\n        \"description\": \"\"\n      }\n    }\n  ]\n}"
            }
          },
          "metadata": {},
          "execution_count": 6
        }
      ]
    },
    {
      "cell_type": "code",
      "source": [
        "print(df.duplicated().sum())"
      ],
      "metadata": {
        "colab": {
          "base_uri": "https://localhost:8080/"
        },
        "id": "B8D-vsEpl_gx",
        "outputId": "a33cfcc7-4bd2-4ce8-f84f-8ca6751dd819"
      },
      "execution_count": null,
      "outputs": [
        {
          "output_type": "stream",
          "name": "stdout",
          "text": [
            "0\n"
          ]
        }
      ]
    },
    {
      "cell_type": "code",
      "source": [
        "print(\"\\nSummary Statistics:\")\n",
        "df.describe()"
      ],
      "metadata": {
        "colab": {
          "base_uri": "https://localhost:8080/",
          "height": 335
        },
        "id": "TbN9TM2YmKDZ",
        "outputId": "9fee40b5-d24e-431d-af49-9a7f2541e356"
      },
      "execution_count": null,
      "outputs": [
        {
          "output_type": "stream",
          "name": "stdout",
          "text": [
            "\n",
            "Summary Statistics:\n"
          ]
        },
        {
          "output_type": "execute_result",
          "data": {
            "text/plain": [
              "       Year of release  Number of Episodes      Rating\n",
              "count       350.000000          350.000000  350.000000\n",
              "mean       2019.808571           18.254286    8.364857\n",
              "std           3.713282           14.565962    0.454704\n",
              "min        2003.000000            1.000000    6.400000\n",
              "25%        2018.000000           12.000000    8.300000\n",
              "50%        2020.000000           16.000000    8.400000\n",
              "75%        2023.000000           16.000000    8.600000\n",
              "max        2025.000000          133.000000    9.200000"
            ],
            "text/html": [
              "\n",
              "  <div id=\"df-01742170-5db5-4ad0-8b49-5bdf4cbf8e23\" class=\"colab-df-container\">\n",
              "    <div>\n",
              "<style scoped>\n",
              "    .dataframe tbody tr th:only-of-type {\n",
              "        vertical-align: middle;\n",
              "    }\n",
              "\n",
              "    .dataframe tbody tr th {\n",
              "        vertical-align: top;\n",
              "    }\n",
              "\n",
              "    .dataframe thead th {\n",
              "        text-align: right;\n",
              "    }\n",
              "</style>\n",
              "<table border=\"1\" class=\"dataframe\">\n",
              "  <thead>\n",
              "    <tr style=\"text-align: right;\">\n",
              "      <th></th>\n",
              "      <th>Year of release</th>\n",
              "      <th>Number of Episodes</th>\n",
              "      <th>Rating</th>\n",
              "    </tr>\n",
              "  </thead>\n",
              "  <tbody>\n",
              "    <tr>\n",
              "      <th>count</th>\n",
              "      <td>350.000000</td>\n",
              "      <td>350.000000</td>\n",
              "      <td>350.000000</td>\n",
              "    </tr>\n",
              "    <tr>\n",
              "      <th>mean</th>\n",
              "      <td>2019.808571</td>\n",
              "      <td>18.254286</td>\n",
              "      <td>8.364857</td>\n",
              "    </tr>\n",
              "    <tr>\n",
              "      <th>std</th>\n",
              "      <td>3.713282</td>\n",
              "      <td>14.565962</td>\n",
              "      <td>0.454704</td>\n",
              "    </tr>\n",
              "    <tr>\n",
              "      <th>min</th>\n",
              "      <td>2003.000000</td>\n",
              "      <td>1.000000</td>\n",
              "      <td>6.400000</td>\n",
              "    </tr>\n",
              "    <tr>\n",
              "      <th>25%</th>\n",
              "      <td>2018.000000</td>\n",
              "      <td>12.000000</td>\n",
              "      <td>8.300000</td>\n",
              "    </tr>\n",
              "    <tr>\n",
              "      <th>50%</th>\n",
              "      <td>2020.000000</td>\n",
              "      <td>16.000000</td>\n",
              "      <td>8.400000</td>\n",
              "    </tr>\n",
              "    <tr>\n",
              "      <th>75%</th>\n",
              "      <td>2023.000000</td>\n",
              "      <td>16.000000</td>\n",
              "      <td>8.600000</td>\n",
              "    </tr>\n",
              "    <tr>\n",
              "      <th>max</th>\n",
              "      <td>2025.000000</td>\n",
              "      <td>133.000000</td>\n",
              "      <td>9.200000</td>\n",
              "    </tr>\n",
              "  </tbody>\n",
              "</table>\n",
              "</div>\n",
              "    <div class=\"colab-df-buttons\">\n",
              "\n",
              "  <div class=\"colab-df-container\">\n",
              "    <button class=\"colab-df-convert\" onclick=\"convertToInteractive('df-01742170-5db5-4ad0-8b49-5bdf4cbf8e23')\"\n",
              "            title=\"Convert this dataframe to an interactive table.\"\n",
              "            style=\"display:none;\">\n",
              "\n",
              "  <svg xmlns=\"http://www.w3.org/2000/svg\" height=\"24px\" viewBox=\"0 -960 960 960\">\n",
              "    <path d=\"M120-120v-720h720v720H120Zm60-500h600v-160H180v160Zm220 220h160v-160H400v160Zm0 220h160v-160H400v160ZM180-400h160v-160H180v160Zm440 0h160v-160H620v160ZM180-180h160v-160H180v160Zm440 0h160v-160H620v160Z\"/>\n",
              "  </svg>\n",
              "    </button>\n",
              "\n",
              "  <style>\n",
              "    .colab-df-container {\n",
              "      display:flex;\n",
              "      gap: 12px;\n",
              "    }\n",
              "\n",
              "    .colab-df-convert {\n",
              "      background-color: #E8F0FE;\n",
              "      border: none;\n",
              "      border-radius: 50%;\n",
              "      cursor: pointer;\n",
              "      display: none;\n",
              "      fill: #1967D2;\n",
              "      height: 32px;\n",
              "      padding: 0 0 0 0;\n",
              "      width: 32px;\n",
              "    }\n",
              "\n",
              "    .colab-df-convert:hover {\n",
              "      background-color: #E2EBFA;\n",
              "      box-shadow: 0px 1px 2px rgba(60, 64, 67, 0.3), 0px 1px 3px 1px rgba(60, 64, 67, 0.15);\n",
              "      fill: #174EA6;\n",
              "    }\n",
              "\n",
              "    .colab-df-buttons div {\n",
              "      margin-bottom: 4px;\n",
              "    }\n",
              "\n",
              "    [theme=dark] .colab-df-convert {\n",
              "      background-color: #3B4455;\n",
              "      fill: #D2E3FC;\n",
              "    }\n",
              "\n",
              "    [theme=dark] .colab-df-convert:hover {\n",
              "      background-color: #434B5C;\n",
              "      box-shadow: 0px 1px 3px 1px rgba(0, 0, 0, 0.15);\n",
              "      filter: drop-shadow(0px 1px 2px rgba(0, 0, 0, 0.3));\n",
              "      fill: #FFFFFF;\n",
              "    }\n",
              "  </style>\n",
              "\n",
              "    <script>\n",
              "      const buttonEl =\n",
              "        document.querySelector('#df-01742170-5db5-4ad0-8b49-5bdf4cbf8e23 button.colab-df-convert');\n",
              "      buttonEl.style.display =\n",
              "        google.colab.kernel.accessAllowed ? 'block' : 'none';\n",
              "\n",
              "      async function convertToInteractive(key) {\n",
              "        const element = document.querySelector('#df-01742170-5db5-4ad0-8b49-5bdf4cbf8e23');\n",
              "        const dataTable =\n",
              "          await google.colab.kernel.invokeFunction('convertToInteractive',\n",
              "                                                    [key], {});\n",
              "        if (!dataTable) return;\n",
              "\n",
              "        const docLinkHtml = 'Like what you see? Visit the ' +\n",
              "          '<a target=\"_blank\" href=https://colab.research.google.com/notebooks/data_table.ipynb>data table notebook</a>'\n",
              "          + ' to learn more about interactive tables.';\n",
              "        element.innerHTML = '';\n",
              "        dataTable['output_type'] = 'display_data';\n",
              "        await google.colab.output.renderOutput(dataTable, element);\n",
              "        const docLink = document.createElement('div');\n",
              "        docLink.innerHTML = docLinkHtml;\n",
              "        element.appendChild(docLink);\n",
              "      }\n",
              "    </script>\n",
              "  </div>\n",
              "\n",
              "\n",
              "    <div id=\"df-1ef37c53-f614-40aa-9ff9-f35aa50f678d\">\n",
              "      <button class=\"colab-df-quickchart\" onclick=\"quickchart('df-1ef37c53-f614-40aa-9ff9-f35aa50f678d')\"\n",
              "                title=\"Suggest charts\"\n",
              "                style=\"display:none;\">\n",
              "\n",
              "<svg xmlns=\"http://www.w3.org/2000/svg\" height=\"24px\"viewBox=\"0 0 24 24\"\n",
              "     width=\"24px\">\n",
              "    <g>\n",
              "        <path d=\"M19 3H5c-1.1 0-2 .9-2 2v14c0 1.1.9 2 2 2h14c1.1 0 2-.9 2-2V5c0-1.1-.9-2-2-2zM9 17H7v-7h2v7zm4 0h-2V7h2v10zm4 0h-2v-4h2v4z\"/>\n",
              "    </g>\n",
              "</svg>\n",
              "      </button>\n",
              "\n",
              "<style>\n",
              "  .colab-df-quickchart {\n",
              "      --bg-color: #E8F0FE;\n",
              "      --fill-color: #1967D2;\n",
              "      --hover-bg-color: #E2EBFA;\n",
              "      --hover-fill-color: #174EA6;\n",
              "      --disabled-fill-color: #AAA;\n",
              "      --disabled-bg-color: #DDD;\n",
              "  }\n",
              "\n",
              "  [theme=dark] .colab-df-quickchart {\n",
              "      --bg-color: #3B4455;\n",
              "      --fill-color: #D2E3FC;\n",
              "      --hover-bg-color: #434B5C;\n",
              "      --hover-fill-color: #FFFFFF;\n",
              "      --disabled-bg-color: #3B4455;\n",
              "      --disabled-fill-color: #666;\n",
              "  }\n",
              "\n",
              "  .colab-df-quickchart {\n",
              "    background-color: var(--bg-color);\n",
              "    border: none;\n",
              "    border-radius: 50%;\n",
              "    cursor: pointer;\n",
              "    display: none;\n",
              "    fill: var(--fill-color);\n",
              "    height: 32px;\n",
              "    padding: 0;\n",
              "    width: 32px;\n",
              "  }\n",
              "\n",
              "  .colab-df-quickchart:hover {\n",
              "    background-color: var(--hover-bg-color);\n",
              "    box-shadow: 0 1px 2px rgba(60, 64, 67, 0.3), 0 1px 3px 1px rgba(60, 64, 67, 0.15);\n",
              "    fill: var(--button-hover-fill-color);\n",
              "  }\n",
              "\n",
              "  .colab-df-quickchart-complete:disabled,\n",
              "  .colab-df-quickchart-complete:disabled:hover {\n",
              "    background-color: var(--disabled-bg-color);\n",
              "    fill: var(--disabled-fill-color);\n",
              "    box-shadow: none;\n",
              "  }\n",
              "\n",
              "  .colab-df-spinner {\n",
              "    border: 2px solid var(--fill-color);\n",
              "    border-color: transparent;\n",
              "    border-bottom-color: var(--fill-color);\n",
              "    animation:\n",
              "      spin 1s steps(1) infinite;\n",
              "  }\n",
              "\n",
              "  @keyframes spin {\n",
              "    0% {\n",
              "      border-color: transparent;\n",
              "      border-bottom-color: var(--fill-color);\n",
              "      border-left-color: var(--fill-color);\n",
              "    }\n",
              "    20% {\n",
              "      border-color: transparent;\n",
              "      border-left-color: var(--fill-color);\n",
              "      border-top-color: var(--fill-color);\n",
              "    }\n",
              "    30% {\n",
              "      border-color: transparent;\n",
              "      border-left-color: var(--fill-color);\n",
              "      border-top-color: var(--fill-color);\n",
              "      border-right-color: var(--fill-color);\n",
              "    }\n",
              "    40% {\n",
              "      border-color: transparent;\n",
              "      border-right-color: var(--fill-color);\n",
              "      border-top-color: var(--fill-color);\n",
              "    }\n",
              "    60% {\n",
              "      border-color: transparent;\n",
              "      border-right-color: var(--fill-color);\n",
              "    }\n",
              "    80% {\n",
              "      border-color: transparent;\n",
              "      border-right-color: var(--fill-color);\n",
              "      border-bottom-color: var(--fill-color);\n",
              "    }\n",
              "    90% {\n",
              "      border-color: transparent;\n",
              "      border-bottom-color: var(--fill-color);\n",
              "    }\n",
              "  }\n",
              "</style>\n",
              "\n",
              "      <script>\n",
              "        async function quickchart(key) {\n",
              "          const quickchartButtonEl =\n",
              "            document.querySelector('#' + key + ' button');\n",
              "          quickchartButtonEl.disabled = true;  // To prevent multiple clicks.\n",
              "          quickchartButtonEl.classList.add('colab-df-spinner');\n",
              "          try {\n",
              "            const charts = await google.colab.kernel.invokeFunction(\n",
              "                'suggestCharts', [key], {});\n",
              "          } catch (error) {\n",
              "            console.error('Error during call to suggestCharts:', error);\n",
              "          }\n",
              "          quickchartButtonEl.classList.remove('colab-df-spinner');\n",
              "          quickchartButtonEl.classList.add('colab-df-quickchart-complete');\n",
              "        }\n",
              "        (() => {\n",
              "          let quickchartButtonEl =\n",
              "            document.querySelector('#df-1ef37c53-f614-40aa-9ff9-f35aa50f678d button');\n",
              "          quickchartButtonEl.style.display =\n",
              "            google.colab.kernel.accessAllowed ? 'block' : 'none';\n",
              "        })();\n",
              "      </script>\n",
              "    </div>\n",
              "\n",
              "    </div>\n",
              "  </div>\n"
            ],
            "application/vnd.google.colaboratory.intrinsic+json": {
              "type": "dataframe",
              "summary": "{\n  \"name\": \"df\",\n  \"rows\": 8,\n  \"fields\": [\n    {\n      \"column\": \"Year of release\",\n      \"properties\": {\n        \"dtype\": \"number\",\n        \"std\": 857.381485731999,\n        \"min\": 3.71328224109705,\n        \"max\": 2025.0,\n        \"num_unique_values\": 8,\n        \"samples\": [\n          2019.8085714285714,\n          2020.0,\n          350.0\n        ],\n        \"semantic_type\": \"\",\n        \"description\": \"\"\n      }\n    },\n    {\n      \"column\": \"Number of Episodes\",\n      \"properties\": {\n        \"dtype\": \"number\",\n        \"std\": 120.75741173917055,\n        \"min\": 1.0,\n        \"max\": 350.0,\n        \"num_unique_values\": 7,\n        \"samples\": [\n          350.0,\n          18.254285714285714,\n          16.0\n        ],\n        \"semantic_type\": \"\",\n        \"description\": \"\"\n      }\n    },\n    {\n      \"column\": \"Rating\",\n      \"properties\": {\n        \"dtype\": \"number\",\n        \"std\": 121.26548304538588,\n        \"min\": 0.45470398084070696,\n        \"max\": 350.0,\n        \"num_unique_values\": 8,\n        \"samples\": [\n          8.364857142857142,\n          8.4,\n          350.0\n        ],\n        \"semantic_type\": \"\",\n        \"description\": \"\"\n      }\n    }\n  ]\n}"
            }
          },
          "metadata": {},
          "execution_count": 8
        }
      ]
    },
    {
      "cell_type": "markdown",
      "source": [
        "# **Data Cleaning**"
      ],
      "metadata": {
        "id": "81NFkw6dnXvB"
      }
    },
    {
      "cell_type": "code",
      "source": [
        "df.isnull().sum()"
      ],
      "metadata": {
        "colab": {
          "base_uri": "https://localhost:8080/",
          "height": 366
        },
        "id": "kpV60u88mboV",
        "outputId": "e29d1e08-033a-4108-c5c1-eea7b1e995cd"
      },
      "execution_count": null,
      "outputs": [
        {
          "output_type": "execute_result",
          "data": {
            "text/plain": [
              "Rank                  0\n",
              "Title                 0\n",
              "Year of release       0\n",
              "Number of Episodes    0\n",
              "Rating                0\n",
              "Description           0\n",
              "Genre                 0\n",
              "Tags                  0\n",
              "Actors                0\n",
              "dtype: int64"
            ],
            "text/html": [
              "<div>\n",
              "<style scoped>\n",
              "    .dataframe tbody tr th:only-of-type {\n",
              "        vertical-align: middle;\n",
              "    }\n",
              "\n",
              "    .dataframe tbody tr th {\n",
              "        vertical-align: top;\n",
              "    }\n",
              "\n",
              "    .dataframe thead th {\n",
              "        text-align: right;\n",
              "    }\n",
              "</style>\n",
              "<table border=\"1\" class=\"dataframe\">\n",
              "  <thead>\n",
              "    <tr style=\"text-align: right;\">\n",
              "      <th></th>\n",
              "      <th>0</th>\n",
              "    </tr>\n",
              "  </thead>\n",
              "  <tbody>\n",
              "    <tr>\n",
              "      <th>Rank</th>\n",
              "      <td>0</td>\n",
              "    </tr>\n",
              "    <tr>\n",
              "      <th>Title</th>\n",
              "      <td>0</td>\n",
              "    </tr>\n",
              "    <tr>\n",
              "      <th>Year of release</th>\n",
              "      <td>0</td>\n",
              "    </tr>\n",
              "    <tr>\n",
              "      <th>Number of Episodes</th>\n",
              "      <td>0</td>\n",
              "    </tr>\n",
              "    <tr>\n",
              "      <th>Rating</th>\n",
              "      <td>0</td>\n",
              "    </tr>\n",
              "    <tr>\n",
              "      <th>Description</th>\n",
              "      <td>0</td>\n",
              "    </tr>\n",
              "    <tr>\n",
              "      <th>Genre</th>\n",
              "      <td>0</td>\n",
              "    </tr>\n",
              "    <tr>\n",
              "      <th>Tags</th>\n",
              "      <td>0</td>\n",
              "    </tr>\n",
              "    <tr>\n",
              "      <th>Actors</th>\n",
              "      <td>0</td>\n",
              "    </tr>\n",
              "  </tbody>\n",
              "</table>\n",
              "</div><br><label><b>dtype:</b> int64</label>"
            ]
          },
          "metadata": {},
          "execution_count": 9
        }
      ]
    },
    {
      "cell_type": "markdown",
      "source": [
        "**Let's remove the '#' from Rank because it doesn't make sense**"
      ],
      "metadata": {
        "id": "EBnPGaQ2y7R7"
      }
    },
    {
      "cell_type": "code",
      "source": [
        "df['Rank']=df['Rank'].astype(\"int\")"
      ],
      "metadata": {
        "id": "VKqAGoTwzbu1"
      },
      "execution_count": null,
      "outputs": []
    },
    {
      "cell_type": "code",
      "source": [
        "df['Rank']=df['Rank'].astype(\"int\")"
      ],
      "metadata": {
        "id": "EWgDk_G6zdkX"
      },
      "execution_count": null,
      "outputs": []
    },
    {
      "cell_type": "code",
      "source": [
        "df.head(2)"
      ],
      "metadata": {
        "colab": {
          "base_uri": "https://localhost:8080/",
          "height": 199
        },
        "id": "AEFNsnQBzitn",
        "outputId": "8252244c-050e-49a0-8b4e-7991b77db06f"
      },
      "execution_count": null,
      "outputs": [
        {
          "output_type": "execute_result",
          "data": {
            "text/plain": [
              "   Rank                 Title  Year of release  Number of Episodes  Rating  \\\n",
              "0     1        Move to Heaven             2021                  10     9.2   \n",
              "1     2  Twinkling Watermelon             2023                  16     9.2   \n",
              "\n",
              "                                         Description  \\\n",
              "0  Geu Roo is a young autistic man. He works for ...   \n",
              "1  In 2023, high school student Eun Gyeol, a CODA...   \n",
              "\n",
              "                            Genre  \\\n",
              "0          Life,  Drama,  Family    \n",
              "1  Romance, Youth, Drama, Fantasy   \n",
              "\n",
              "                                                Tags  \\\n",
              "0  Autism, Uncle-Nephew Relationship, Death, Sava...   \n",
              "1  Time Travel, Child From The Future, Sign Langu...   \n",
              "\n",
              "                                              Actors  \n",
              "0  Lee Je Hoon, Tang Jun Sang, Hong Seung Hee, Ju...  \n",
              "1  Ha Eun-Gyeol, Ha Yi-Chan, Choi Se-Kyung, Yoon ...  "
            ],
            "text/html": [
              "\n",
              "  <div id=\"df-e6b8a80a-a27d-4ffc-a689-a339aa3b5d58\" class=\"colab-df-container\">\n",
              "    <div>\n",
              "<style scoped>\n",
              "    .dataframe tbody tr th:only-of-type {\n",
              "        vertical-align: middle;\n",
              "    }\n",
              "\n",
              "    .dataframe tbody tr th {\n",
              "        vertical-align: top;\n",
              "    }\n",
              "\n",
              "    .dataframe thead th {\n",
              "        text-align: right;\n",
              "    }\n",
              "</style>\n",
              "<table border=\"1\" class=\"dataframe\">\n",
              "  <thead>\n",
              "    <tr style=\"text-align: right;\">\n",
              "      <th></th>\n",
              "      <th>Rank</th>\n",
              "      <th>Title</th>\n",
              "      <th>Year of release</th>\n",
              "      <th>Number of Episodes</th>\n",
              "      <th>Rating</th>\n",
              "      <th>Description</th>\n",
              "      <th>Genre</th>\n",
              "      <th>Tags</th>\n",
              "      <th>Actors</th>\n",
              "    </tr>\n",
              "  </thead>\n",
              "  <tbody>\n",
              "    <tr>\n",
              "      <th>0</th>\n",
              "      <td>1</td>\n",
              "      <td>Move to Heaven</td>\n",
              "      <td>2021</td>\n",
              "      <td>10</td>\n",
              "      <td>9.2</td>\n",
              "      <td>Geu Roo is a young autistic man. He works for ...</td>\n",
              "      <td>Life,  Drama,  Family</td>\n",
              "      <td>Autism, Uncle-Nephew Relationship, Death, Sava...</td>\n",
              "      <td>Lee Je Hoon, Tang Jun Sang, Hong Seung Hee, Ju...</td>\n",
              "    </tr>\n",
              "    <tr>\n",
              "      <th>1</th>\n",
              "      <td>2</td>\n",
              "      <td>Twinkling Watermelon</td>\n",
              "      <td>2023</td>\n",
              "      <td>16</td>\n",
              "      <td>9.2</td>\n",
              "      <td>In 2023, high school student Eun Gyeol, a CODA...</td>\n",
              "      <td>Romance, Youth, Drama, Fantasy</td>\n",
              "      <td>Time Travel, Child From The Future, Sign Langu...</td>\n",
              "      <td>Ha Eun-Gyeol, Ha Yi-Chan, Choi Se-Kyung, Yoon ...</td>\n",
              "    </tr>\n",
              "  </tbody>\n",
              "</table>\n",
              "</div>\n",
              "    <div class=\"colab-df-buttons\">\n",
              "\n",
              "  <div class=\"colab-df-container\">\n",
              "    <button class=\"colab-df-convert\" onclick=\"convertToInteractive('df-e6b8a80a-a27d-4ffc-a689-a339aa3b5d58')\"\n",
              "            title=\"Convert this dataframe to an interactive table.\"\n",
              "            style=\"display:none;\">\n",
              "\n",
              "  <svg xmlns=\"http://www.w3.org/2000/svg\" height=\"24px\" viewBox=\"0 -960 960 960\">\n",
              "    <path d=\"M120-120v-720h720v720H120Zm60-500h600v-160H180v160Zm220 220h160v-160H400v160Zm0 220h160v-160H400v160ZM180-400h160v-160H180v160Zm440 0h160v-160H620v160ZM180-180h160v-160H180v160Zm440 0h160v-160H620v160Z\"/>\n",
              "  </svg>\n",
              "    </button>\n",
              "\n",
              "  <style>\n",
              "    .colab-df-container {\n",
              "      display:flex;\n",
              "      gap: 12px;\n",
              "    }\n",
              "\n",
              "    .colab-df-convert {\n",
              "      background-color: #E8F0FE;\n",
              "      border: none;\n",
              "      border-radius: 50%;\n",
              "      cursor: pointer;\n",
              "      display: none;\n",
              "      fill: #1967D2;\n",
              "      height: 32px;\n",
              "      padding: 0 0 0 0;\n",
              "      width: 32px;\n",
              "    }\n",
              "\n",
              "    .colab-df-convert:hover {\n",
              "      background-color: #E2EBFA;\n",
              "      box-shadow: 0px 1px 2px rgba(60, 64, 67, 0.3), 0px 1px 3px 1px rgba(60, 64, 67, 0.15);\n",
              "      fill: #174EA6;\n",
              "    }\n",
              "\n",
              "    .colab-df-buttons div {\n",
              "      margin-bottom: 4px;\n",
              "    }\n",
              "\n",
              "    [theme=dark] .colab-df-convert {\n",
              "      background-color: #3B4455;\n",
              "      fill: #D2E3FC;\n",
              "    }\n",
              "\n",
              "    [theme=dark] .colab-df-convert:hover {\n",
              "      background-color: #434B5C;\n",
              "      box-shadow: 0px 1px 3px 1px rgba(0, 0, 0, 0.15);\n",
              "      filter: drop-shadow(0px 1px 2px rgba(0, 0, 0, 0.3));\n",
              "      fill: #FFFFFF;\n",
              "    }\n",
              "  </style>\n",
              "\n",
              "    <script>\n",
              "      const buttonEl =\n",
              "        document.querySelector('#df-e6b8a80a-a27d-4ffc-a689-a339aa3b5d58 button.colab-df-convert');\n",
              "      buttonEl.style.display =\n",
              "        google.colab.kernel.accessAllowed ? 'block' : 'none';\n",
              "\n",
              "      async function convertToInteractive(key) {\n",
              "        const element = document.querySelector('#df-e6b8a80a-a27d-4ffc-a689-a339aa3b5d58');\n",
              "        const dataTable =\n",
              "          await google.colab.kernel.invokeFunction('convertToInteractive',\n",
              "                                                    [key], {});\n",
              "        if (!dataTable) return;\n",
              "\n",
              "        const docLinkHtml = 'Like what you see? Visit the ' +\n",
              "          '<a target=\"_blank\" href=https://colab.research.google.com/notebooks/data_table.ipynb>data table notebook</a>'\n",
              "          + ' to learn more about interactive tables.';\n",
              "        element.innerHTML = '';\n",
              "        dataTable['output_type'] = 'display_data';\n",
              "        await google.colab.output.renderOutput(dataTable, element);\n",
              "        const docLink = document.createElement('div');\n",
              "        docLink.innerHTML = docLinkHtml;\n",
              "        element.appendChild(docLink);\n",
              "      }\n",
              "    </script>\n",
              "  </div>\n",
              "\n",
              "\n",
              "    <div id=\"df-02f787db-3371-47ef-bcc8-0ded9ebf5606\">\n",
              "      <button class=\"colab-df-quickchart\" onclick=\"quickchart('df-02f787db-3371-47ef-bcc8-0ded9ebf5606')\"\n",
              "                title=\"Suggest charts\"\n",
              "                style=\"display:none;\">\n",
              "\n",
              "<svg xmlns=\"http://www.w3.org/2000/svg\" height=\"24px\"viewBox=\"0 0 24 24\"\n",
              "     width=\"24px\">\n",
              "    <g>\n",
              "        <path d=\"M19 3H5c-1.1 0-2 .9-2 2v14c0 1.1.9 2 2 2h14c1.1 0 2-.9 2-2V5c0-1.1-.9-2-2-2zM9 17H7v-7h2v7zm4 0h-2V7h2v10zm4 0h-2v-4h2v4z\"/>\n",
              "    </g>\n",
              "</svg>\n",
              "      </button>\n",
              "\n",
              "<style>\n",
              "  .colab-df-quickchart {\n",
              "      --bg-color: #E8F0FE;\n",
              "      --fill-color: #1967D2;\n",
              "      --hover-bg-color: #E2EBFA;\n",
              "      --hover-fill-color: #174EA6;\n",
              "      --disabled-fill-color: #AAA;\n",
              "      --disabled-bg-color: #DDD;\n",
              "  }\n",
              "\n",
              "  [theme=dark] .colab-df-quickchart {\n",
              "      --bg-color: #3B4455;\n",
              "      --fill-color: #D2E3FC;\n",
              "      --hover-bg-color: #434B5C;\n",
              "      --hover-fill-color: #FFFFFF;\n",
              "      --disabled-bg-color: #3B4455;\n",
              "      --disabled-fill-color: #666;\n",
              "  }\n",
              "\n",
              "  .colab-df-quickchart {\n",
              "    background-color: var(--bg-color);\n",
              "    border: none;\n",
              "    border-radius: 50%;\n",
              "    cursor: pointer;\n",
              "    display: none;\n",
              "    fill: var(--fill-color);\n",
              "    height: 32px;\n",
              "    padding: 0;\n",
              "    width: 32px;\n",
              "  }\n",
              "\n",
              "  .colab-df-quickchart:hover {\n",
              "    background-color: var(--hover-bg-color);\n",
              "    box-shadow: 0 1px 2px rgba(60, 64, 67, 0.3), 0 1px 3px 1px rgba(60, 64, 67, 0.15);\n",
              "    fill: var(--button-hover-fill-color);\n",
              "  }\n",
              "\n",
              "  .colab-df-quickchart-complete:disabled,\n",
              "  .colab-df-quickchart-complete:disabled:hover {\n",
              "    background-color: var(--disabled-bg-color);\n",
              "    fill: var(--disabled-fill-color);\n",
              "    box-shadow: none;\n",
              "  }\n",
              "\n",
              "  .colab-df-spinner {\n",
              "    border: 2px solid var(--fill-color);\n",
              "    border-color: transparent;\n",
              "    border-bottom-color: var(--fill-color);\n",
              "    animation:\n",
              "      spin 1s steps(1) infinite;\n",
              "  }\n",
              "\n",
              "  @keyframes spin {\n",
              "    0% {\n",
              "      border-color: transparent;\n",
              "      border-bottom-color: var(--fill-color);\n",
              "      border-left-color: var(--fill-color);\n",
              "    }\n",
              "    20% {\n",
              "      border-color: transparent;\n",
              "      border-left-color: var(--fill-color);\n",
              "      border-top-color: var(--fill-color);\n",
              "    }\n",
              "    30% {\n",
              "      border-color: transparent;\n",
              "      border-left-color: var(--fill-color);\n",
              "      border-top-color: var(--fill-color);\n",
              "      border-right-color: var(--fill-color);\n",
              "    }\n",
              "    40% {\n",
              "      border-color: transparent;\n",
              "      border-right-color: var(--fill-color);\n",
              "      border-top-color: var(--fill-color);\n",
              "    }\n",
              "    60% {\n",
              "      border-color: transparent;\n",
              "      border-right-color: var(--fill-color);\n",
              "    }\n",
              "    80% {\n",
              "      border-color: transparent;\n",
              "      border-right-color: var(--fill-color);\n",
              "      border-bottom-color: var(--fill-color);\n",
              "    }\n",
              "    90% {\n",
              "      border-color: transparent;\n",
              "      border-bottom-color: var(--fill-color);\n",
              "    }\n",
              "  }\n",
              "</style>\n",
              "\n",
              "      <script>\n",
              "        async function quickchart(key) {\n",
              "          const quickchartButtonEl =\n",
              "            document.querySelector('#' + key + ' button');\n",
              "          quickchartButtonEl.disabled = true;  // To prevent multiple clicks.\n",
              "          quickchartButtonEl.classList.add('colab-df-spinner');\n",
              "          try {\n",
              "            const charts = await google.colab.kernel.invokeFunction(\n",
              "                'suggestCharts', [key], {});\n",
              "          } catch (error) {\n",
              "            console.error('Error during call to suggestCharts:', error);\n",
              "          }\n",
              "          quickchartButtonEl.classList.remove('colab-df-spinner');\n",
              "          quickchartButtonEl.classList.add('colab-df-quickchart-complete');\n",
              "        }\n",
              "        (() => {\n",
              "          let quickchartButtonEl =\n",
              "            document.querySelector('#df-02f787db-3371-47ef-bcc8-0ded9ebf5606 button');\n",
              "          quickchartButtonEl.style.display =\n",
              "            google.colab.kernel.accessAllowed ? 'block' : 'none';\n",
              "        })();\n",
              "      </script>\n",
              "    </div>\n",
              "\n",
              "    </div>\n",
              "  </div>\n"
            ],
            "application/vnd.google.colaboratory.intrinsic+json": {
              "type": "dataframe",
              "variable_name": "df",
              "summary": "{\n  \"name\": \"df\",\n  \"rows\": 350,\n  \"fields\": [\n    {\n      \"column\": \"Rank\",\n      \"properties\": {\n        \"dtype\": \"number\",\n        \"std\": 101,\n        \"min\": 1,\n        \"max\": 350,\n        \"num_unique_values\": 350,\n        \"samples\": [\n          158,\n          342,\n          316\n        ],\n        \"semantic_type\": \"\",\n        \"description\": \"\"\n      }\n    },\n    {\n      \"column\": \"Title\",\n      \"properties\": {\n        \"dtype\": \"string\",\n        \"num_unique_values\": 350,\n        \"samples\": [\n          \"Yumi's Cells\",\n          \"Strangers Again\",\n          \"Love Song for Illusion\"\n        ],\n        \"semantic_type\": \"\",\n        \"description\": \"\"\n      }\n    },\n    {\n      \"column\": \"Year of release\",\n      \"properties\": {\n        \"dtype\": \"number\",\n        \"std\": 3,\n        \"min\": 2003,\n        \"max\": 2025,\n        \"num_unique_values\": 20,\n        \"samples\": [\n          2021,\n          2010,\n          2009\n        ],\n        \"semantic_type\": \"\",\n        \"description\": \"\"\n      }\n    },\n    {\n      \"column\": \"Number of Episodes\",\n      \"properties\": {\n        \"dtype\": \"number\",\n        \"std\": 14,\n        \"min\": 1,\n        \"max\": 133,\n        \"num_unique_values\": 33,\n        \"samples\": [\n          128,\n          54,\n          1\n        ],\n        \"semantic_type\": \"\",\n        \"description\": \"\"\n      }\n    },\n    {\n      \"column\": \"Rating\",\n      \"properties\": {\n        \"dtype\": \"number\",\n        \"std\": 0.45470398084070696,\n        \"min\": 6.4,\n        \"max\": 9.2,\n        \"num_unique_values\": 25,\n        \"samples\": [\n          8.4,\n          7.6,\n          9.2\n        ],\n        \"semantic_type\": \"\",\n        \"description\": \"\"\n      }\n    },\n    {\n      \"column\": \"Description\",\n      \"properties\": {\n        \"dtype\": \"string\",\n        \"num_unique_values\": 350,\n        \"samples\": [\n          \"Controlled by a complex network of cells, each and every human on the planet is kept running by an unseen operating system that is, for the most part, completely ignored. Though humans never give much thought to how they manage to function, day in and day out, the cells within the human body are constantly at work, doing their part to keep their human alive and well. Which is why on the outside, Kim Yoo Mi may appear to be just like every other single working woman in the world, but underneath that ordinary exterior lies something truly extraordinary. \",\n          \"Oh Ha Ra is a hotshot divorce lawyer whose nickname in legal circles is \\u201cthe \\u201cgoddess of litigation.\\u201d One of the reasons she is such a dab hand at divorce proceedings, perhaps, is the fact that she has divorced her long-time lover and fellow lawyer Goo Eun Beom. But her relatively uneventful life is turned upside down when she is unexpectedly reunited with her ex-husband \\u2013 in the law courts! The duo is forced to work together \\u2013 leading them to butt heads and reignite past grievances. While their professionalism prevents them from telling each other what they really think in public, tempers begin to fray...and risk boiling over. The tense atmosphere is not relieved in the slightest by fellow divorce lawyers Kang Bi Chwi and Kwon Si Wook, another pair of advocates who always seem to get under one another\\u2019s skin! Will Cupid rescue this group of lawyers \\u2013 or will chaos break loose in the courtroom?\",\n          \"Crown Prince Sajo Hyun secretly works as a fashion designer in a downtown boutique, hiding his royal identity. He's haunted by a deep childhood wound from his harsh father, Sajo Seung. Hyun also has another persona, Ak Hee, a charming seducer cursed with pain from any physical touch. Yeon Wol, the royal heir of the fallen Yeon Dynasty, lives a life full of twists\\u2014going from assassin to concubine. Disguised as Gye Ra, she seeks revenge for her family, but after an assassination attempt on the king goes wrong, she wakes up with no memory of her past.\"\n        ],\n        \"semantic_type\": \"\",\n        \"description\": \"\"\n      }\n    },\n    {\n      \"column\": \"Genre\",\n      \"properties\": {\n        \"dtype\": \"string\",\n        \"num_unique_values\": 265,\n        \"samples\": [\n          \"Music, Psychological, Drama, Fantasy\",\n          \"Romance, Drama, Melodrama, Supernatural\",\n          \"Mystery,  Comedy,  Family,  Fantasy \"\n        ],\n        \"semantic_type\": \"\",\n        \"description\": \"\"\n      }\n    },\n    {\n      \"column\": \"Tags\",\n      \"properties\": {\n        \"dtype\": \"string\",\n        \"num_unique_values\": 350,\n        \"samples\": [\n          \"Career Woman, Slice Of Life, Friendship, Mixed Live Action-Animation, Office Worker, Workplace, Adapted From A Webtoon, Honest Male Lead, Game Developer, Personal Growth\",\n          \"Bickering Mains' Relationship, Ex-spouse Relationship, Unhealthy Mains' Relationship, Second Chance Romance, Love/Hate Relationship, Co-workers' Relationship, Miscommunication, Slight Comedy, Secondary Couple, Flashback To Past \",\n          \"Dissociative Identity Disorder, Revenge, Adapted From A Webtoon, Concubine Female Lead, Manipulative Male Lead, Historical Fiction, Trauma, Curse, Physically Strong Female Lead, Physically Strong Male Lead\"\n        ],\n        \"semantic_type\": \"\",\n        \"description\": \"\"\n      }\n    },\n    {\n      \"column\": \"Actors\",\n      \"properties\": {\n        \"dtype\": \"string\",\n        \"num_unique_values\": 349,\n        \"samples\": [\n          \"Jeon Do Yeon, Ryu Joon Yeol, Park Byung Eun, Kim Hyo Jin, Park Ji Young, Park In Hwan\",\n          \"Lee Yun Hee, Hong Jong Hyun, Moon So Ri, U-Know\",\n          \"Ryu Jun Yeol, Chun Woo Hee, Park Jeong Min, Lee Yeol Eum, Park Hae Joon, Lee Joo Young\"\n        ],\n        \"semantic_type\": \"\",\n        \"description\": \"\"\n      }\n    }\n  ]\n}"
            }
          },
          "metadata": {},
          "execution_count": 101
        }
      ]
    },
    {
      "cell_type": "markdown",
      "source": [
        "# **Univariate Analysis**"
      ],
      "metadata": {
        "id": "m0q-3SlnpmYM"
      }
    },
    {
      "cell_type": "code",
      "source": [
        "#K-Dramas with the Most Episodes\n",
        "df.sort_values(by='Number of Episodes', ascending=False).head(5)"
      ],
      "metadata": {
        "colab": {
          "base_uri": "https://localhost:8080/",
          "height": 397
        },
        "id": "n1E3jXo4aA38",
        "outputId": "6c66c13f-8b4d-4e5c-b874-22fdd32b39bd"
      },
      "execution_count": null,
      "outputs": [
        {
          "output_type": "execute_result",
          "data": {
            "text/plain": [
              "     Rank                    Title  Year of release  Number of Episodes  \\\n",
              "229  #230               Ugly Alert             2013                 133   \n",
              "323  #324            Su Ji & U Ri              2024                 128   \n",
              "348  #349  The Brave Yong Su Jeong             2024                 124   \n",
              "100  #101               Once Again             2020                 100   \n",
              "227  #228                   Jumong             2006                  81   \n",
              "\n",
              "     Rating                                        Description  \\\n",
              "229     8.3  The story of a man named Gong Joon Soo who sac...   \n",
              "323     7.5  Jin Soo Ji is a superstar psychiatrist at Haed...   \n",
              "348     6.8  Yong Su Jeong has a refreshing charm, which he...   \n",
              "100     8.6  \"Once Again\" is the story of the eventful Song...   \n",
              "227     8.3  Jumong was the founder of Goguryeo in 37 BC. H...   \n",
              "\n",
              "                                     Genre  \\\n",
              "229           Business, Romance, Melodrama   \n",
              "323        Romance, Drama, Family, Medical   \n",
              "348              Romance, Drama, Melodrama   \n",
              "100     Comedy,  Romance,  Drama,  Family    \n",
              "227  Adventure, Historical, Romance, Drama   \n",
              "\n",
              "                                                  Tags  \\\n",
              "229  Rich Woman/Poor Man, Nice Male Lead, Strong Fe...   \n",
              "323  : Enemies To Lovers, Nice Male Lead, Love Tria...   \n",
              "348  Guest House Setting, Adoptive Father-Adoptive ...   \n",
              "100  Divorce, Family Relationship, Multiple Couples...   \n",
              "227  Leadership, Strong Female Lead, Power Struggle...   \n",
              "\n",
              "                                                Actors  \n",
              "229  Im Joo Hwan, Kang So Ra, Kang  Byul, Choi  Tae...  \n",
              "323  Ham Eun Jung, Baek Sung Hyun, Oh Hyun Kyung, K...  \n",
              "348  Uhm Hyun Kyung, Seo Joon Young, Im Ju Eun, Kwo...  \n",
              "100  Chun Ho Jin, Cha Hwa Yun, Lee Jung Eun, Oh Dae...  \n",
              "227  Song Il Gook, Han Hye Jin, Kim Seung Soo, Jeon...  "
            ],
            "text/html": [
              "\n",
              "  <div id=\"df-b22bfd3f-83ce-4b45-8fb0-ecf43798826d\" class=\"colab-df-container\">\n",
              "    <div>\n",
              "<style scoped>\n",
              "    .dataframe tbody tr th:only-of-type {\n",
              "        vertical-align: middle;\n",
              "    }\n",
              "\n",
              "    .dataframe tbody tr th {\n",
              "        vertical-align: top;\n",
              "    }\n",
              "\n",
              "    .dataframe thead th {\n",
              "        text-align: right;\n",
              "    }\n",
              "</style>\n",
              "<table border=\"1\" class=\"dataframe\">\n",
              "  <thead>\n",
              "    <tr style=\"text-align: right;\">\n",
              "      <th></th>\n",
              "      <th>Rank</th>\n",
              "      <th>Title</th>\n",
              "      <th>Year of release</th>\n",
              "      <th>Number of Episodes</th>\n",
              "      <th>Rating</th>\n",
              "      <th>Description</th>\n",
              "      <th>Genre</th>\n",
              "      <th>Tags</th>\n",
              "      <th>Actors</th>\n",
              "    </tr>\n",
              "  </thead>\n",
              "  <tbody>\n",
              "    <tr>\n",
              "      <th>229</th>\n",
              "      <td>#230</td>\n",
              "      <td>Ugly Alert</td>\n",
              "      <td>2013</td>\n",
              "      <td>133</td>\n",
              "      <td>8.3</td>\n",
              "      <td>The story of a man named Gong Joon Soo who sac...</td>\n",
              "      <td>Business, Romance, Melodrama</td>\n",
              "      <td>Rich Woman/Poor Man, Nice Male Lead, Strong Fe...</td>\n",
              "      <td>Im Joo Hwan, Kang So Ra, Kang  Byul, Choi  Tae...</td>\n",
              "    </tr>\n",
              "    <tr>\n",
              "      <th>323</th>\n",
              "      <td>#324</td>\n",
              "      <td>Su Ji &amp; U Ri</td>\n",
              "      <td>2024</td>\n",
              "      <td>128</td>\n",
              "      <td>7.5</td>\n",
              "      <td>Jin Soo Ji is a superstar psychiatrist at Haed...</td>\n",
              "      <td>Romance, Drama, Family, Medical</td>\n",
              "      <td>: Enemies To Lovers, Nice Male Lead, Love Tria...</td>\n",
              "      <td>Ham Eun Jung, Baek Sung Hyun, Oh Hyun Kyung, K...</td>\n",
              "    </tr>\n",
              "    <tr>\n",
              "      <th>348</th>\n",
              "      <td>#349</td>\n",
              "      <td>The Brave Yong Su Jeong</td>\n",
              "      <td>2024</td>\n",
              "      <td>124</td>\n",
              "      <td>6.8</td>\n",
              "      <td>Yong Su Jeong has a refreshing charm, which he...</td>\n",
              "      <td>Romance, Drama, Melodrama</td>\n",
              "      <td>Guest House Setting, Adoptive Father-Adoptive ...</td>\n",
              "      <td>Uhm Hyun Kyung, Seo Joon Young, Im Ju Eun, Kwo...</td>\n",
              "    </tr>\n",
              "    <tr>\n",
              "      <th>100</th>\n",
              "      <td>#101</td>\n",
              "      <td>Once Again</td>\n",
              "      <td>2020</td>\n",
              "      <td>100</td>\n",
              "      <td>8.6</td>\n",
              "      <td>\"Once Again\" is the story of the eventful Song...</td>\n",
              "      <td>Comedy,  Romance,  Drama,  Family</td>\n",
              "      <td>Divorce, Family Relationship, Multiple Couples...</td>\n",
              "      <td>Chun Ho Jin, Cha Hwa Yun, Lee Jung Eun, Oh Dae...</td>\n",
              "    </tr>\n",
              "    <tr>\n",
              "      <th>227</th>\n",
              "      <td>#228</td>\n",
              "      <td>Jumong</td>\n",
              "      <td>2006</td>\n",
              "      <td>81</td>\n",
              "      <td>8.3</td>\n",
              "      <td>Jumong was the founder of Goguryeo in 37 BC. H...</td>\n",
              "      <td>Adventure, Historical, Romance, Drama</td>\n",
              "      <td>Leadership, Strong Female Lead, Power Struggle...</td>\n",
              "      <td>Song Il Gook, Han Hye Jin, Kim Seung Soo, Jeon...</td>\n",
              "    </tr>\n",
              "  </tbody>\n",
              "</table>\n",
              "</div>\n",
              "    <div class=\"colab-df-buttons\">\n",
              "\n",
              "  <div class=\"colab-df-container\">\n",
              "    <button class=\"colab-df-convert\" onclick=\"convertToInteractive('df-b22bfd3f-83ce-4b45-8fb0-ecf43798826d')\"\n",
              "            title=\"Convert this dataframe to an interactive table.\"\n",
              "            style=\"display:none;\">\n",
              "\n",
              "  <svg xmlns=\"http://www.w3.org/2000/svg\" height=\"24px\" viewBox=\"0 -960 960 960\">\n",
              "    <path d=\"M120-120v-720h720v720H120Zm60-500h600v-160H180v160Zm220 220h160v-160H400v160Zm0 220h160v-160H400v160ZM180-400h160v-160H180v160Zm440 0h160v-160H620v160ZM180-180h160v-160H180v160Zm440 0h160v-160H620v160Z\"/>\n",
              "  </svg>\n",
              "    </button>\n",
              "\n",
              "  <style>\n",
              "    .colab-df-container {\n",
              "      display:flex;\n",
              "      gap: 12px;\n",
              "    }\n",
              "\n",
              "    .colab-df-convert {\n",
              "      background-color: #E8F0FE;\n",
              "      border: none;\n",
              "      border-radius: 50%;\n",
              "      cursor: pointer;\n",
              "      display: none;\n",
              "      fill: #1967D2;\n",
              "      height: 32px;\n",
              "      padding: 0 0 0 0;\n",
              "      width: 32px;\n",
              "    }\n",
              "\n",
              "    .colab-df-convert:hover {\n",
              "      background-color: #E2EBFA;\n",
              "      box-shadow: 0px 1px 2px rgba(60, 64, 67, 0.3), 0px 1px 3px 1px rgba(60, 64, 67, 0.15);\n",
              "      fill: #174EA6;\n",
              "    }\n",
              "\n",
              "    .colab-df-buttons div {\n",
              "      margin-bottom: 4px;\n",
              "    }\n",
              "\n",
              "    [theme=dark] .colab-df-convert {\n",
              "      background-color: #3B4455;\n",
              "      fill: #D2E3FC;\n",
              "    }\n",
              "\n",
              "    [theme=dark] .colab-df-convert:hover {\n",
              "      background-color: #434B5C;\n",
              "      box-shadow: 0px 1px 3px 1px rgba(0, 0, 0, 0.15);\n",
              "      filter: drop-shadow(0px 1px 2px rgba(0, 0, 0, 0.3));\n",
              "      fill: #FFFFFF;\n",
              "    }\n",
              "  </style>\n",
              "\n",
              "    <script>\n",
              "      const buttonEl =\n",
              "        document.querySelector('#df-b22bfd3f-83ce-4b45-8fb0-ecf43798826d button.colab-df-convert');\n",
              "      buttonEl.style.display =\n",
              "        google.colab.kernel.accessAllowed ? 'block' : 'none';\n",
              "\n",
              "      async function convertToInteractive(key) {\n",
              "        const element = document.querySelector('#df-b22bfd3f-83ce-4b45-8fb0-ecf43798826d');\n",
              "        const dataTable =\n",
              "          await google.colab.kernel.invokeFunction('convertToInteractive',\n",
              "                                                    [key], {});\n",
              "        if (!dataTable) return;\n",
              "\n",
              "        const docLinkHtml = 'Like what you see? Visit the ' +\n",
              "          '<a target=\"_blank\" href=https://colab.research.google.com/notebooks/data_table.ipynb>data table notebook</a>'\n",
              "          + ' to learn more about interactive tables.';\n",
              "        element.innerHTML = '';\n",
              "        dataTable['output_type'] = 'display_data';\n",
              "        await google.colab.output.renderOutput(dataTable, element);\n",
              "        const docLink = document.createElement('div');\n",
              "        docLink.innerHTML = docLinkHtml;\n",
              "        element.appendChild(docLink);\n",
              "      }\n",
              "    </script>\n",
              "  </div>\n",
              "\n",
              "\n",
              "    <div id=\"df-8f4033b7-df90-456c-825b-4b9983eeba0f\">\n",
              "      <button class=\"colab-df-quickchart\" onclick=\"quickchart('df-8f4033b7-df90-456c-825b-4b9983eeba0f')\"\n",
              "                title=\"Suggest charts\"\n",
              "                style=\"display:none;\">\n",
              "\n",
              "<svg xmlns=\"http://www.w3.org/2000/svg\" height=\"24px\"viewBox=\"0 0 24 24\"\n",
              "     width=\"24px\">\n",
              "    <g>\n",
              "        <path d=\"M19 3H5c-1.1 0-2 .9-2 2v14c0 1.1.9 2 2 2h14c1.1 0 2-.9 2-2V5c0-1.1-.9-2-2-2zM9 17H7v-7h2v7zm4 0h-2V7h2v10zm4 0h-2v-4h2v4z\"/>\n",
              "    </g>\n",
              "</svg>\n",
              "      </button>\n",
              "\n",
              "<style>\n",
              "  .colab-df-quickchart {\n",
              "      --bg-color: #E8F0FE;\n",
              "      --fill-color: #1967D2;\n",
              "      --hover-bg-color: #E2EBFA;\n",
              "      --hover-fill-color: #174EA6;\n",
              "      --disabled-fill-color: #AAA;\n",
              "      --disabled-bg-color: #DDD;\n",
              "  }\n",
              "\n",
              "  [theme=dark] .colab-df-quickchart {\n",
              "      --bg-color: #3B4455;\n",
              "      --fill-color: #D2E3FC;\n",
              "      --hover-bg-color: #434B5C;\n",
              "      --hover-fill-color: #FFFFFF;\n",
              "      --disabled-bg-color: #3B4455;\n",
              "      --disabled-fill-color: #666;\n",
              "  }\n",
              "\n",
              "  .colab-df-quickchart {\n",
              "    background-color: var(--bg-color);\n",
              "    border: none;\n",
              "    border-radius: 50%;\n",
              "    cursor: pointer;\n",
              "    display: none;\n",
              "    fill: var(--fill-color);\n",
              "    height: 32px;\n",
              "    padding: 0;\n",
              "    width: 32px;\n",
              "  }\n",
              "\n",
              "  .colab-df-quickchart:hover {\n",
              "    background-color: var(--hover-bg-color);\n",
              "    box-shadow: 0 1px 2px rgba(60, 64, 67, 0.3), 0 1px 3px 1px rgba(60, 64, 67, 0.15);\n",
              "    fill: var(--button-hover-fill-color);\n",
              "  }\n",
              "\n",
              "  .colab-df-quickchart-complete:disabled,\n",
              "  .colab-df-quickchart-complete:disabled:hover {\n",
              "    background-color: var(--disabled-bg-color);\n",
              "    fill: var(--disabled-fill-color);\n",
              "    box-shadow: none;\n",
              "  }\n",
              "\n",
              "  .colab-df-spinner {\n",
              "    border: 2px solid var(--fill-color);\n",
              "    border-color: transparent;\n",
              "    border-bottom-color: var(--fill-color);\n",
              "    animation:\n",
              "      spin 1s steps(1) infinite;\n",
              "  }\n",
              "\n",
              "  @keyframes spin {\n",
              "    0% {\n",
              "      border-color: transparent;\n",
              "      border-bottom-color: var(--fill-color);\n",
              "      border-left-color: var(--fill-color);\n",
              "    }\n",
              "    20% {\n",
              "      border-color: transparent;\n",
              "      border-left-color: var(--fill-color);\n",
              "      border-top-color: var(--fill-color);\n",
              "    }\n",
              "    30% {\n",
              "      border-color: transparent;\n",
              "      border-left-color: var(--fill-color);\n",
              "      border-top-color: var(--fill-color);\n",
              "      border-right-color: var(--fill-color);\n",
              "    }\n",
              "    40% {\n",
              "      border-color: transparent;\n",
              "      border-right-color: var(--fill-color);\n",
              "      border-top-color: var(--fill-color);\n",
              "    }\n",
              "    60% {\n",
              "      border-color: transparent;\n",
              "      border-right-color: var(--fill-color);\n",
              "    }\n",
              "    80% {\n",
              "      border-color: transparent;\n",
              "      border-right-color: var(--fill-color);\n",
              "      border-bottom-color: var(--fill-color);\n",
              "    }\n",
              "    90% {\n",
              "      border-color: transparent;\n",
              "      border-bottom-color: var(--fill-color);\n",
              "    }\n",
              "  }\n",
              "</style>\n",
              "\n",
              "      <script>\n",
              "        async function quickchart(key) {\n",
              "          const quickchartButtonEl =\n",
              "            document.querySelector('#' + key + ' button');\n",
              "          quickchartButtonEl.disabled = true;  // To prevent multiple clicks.\n",
              "          quickchartButtonEl.classList.add('colab-df-spinner');\n",
              "          try {\n",
              "            const charts = await google.colab.kernel.invokeFunction(\n",
              "                'suggestCharts', [key], {});\n",
              "          } catch (error) {\n",
              "            console.error('Error during call to suggestCharts:', error);\n",
              "          }\n",
              "          quickchartButtonEl.classList.remove('colab-df-spinner');\n",
              "          quickchartButtonEl.classList.add('colab-df-quickchart-complete');\n",
              "        }\n",
              "        (() => {\n",
              "          let quickchartButtonEl =\n",
              "            document.querySelector('#df-8f4033b7-df90-456c-825b-4b9983eeba0f button');\n",
              "          quickchartButtonEl.style.display =\n",
              "            google.colab.kernel.accessAllowed ? 'block' : 'none';\n",
              "        })();\n",
              "      </script>\n",
              "    </div>\n",
              "\n",
              "    </div>\n",
              "  </div>\n"
            ],
            "application/vnd.google.colaboratory.intrinsic+json": {
              "type": "dataframe",
              "summary": "{\n  \"name\": \"df\",\n  \"rows\": 5,\n  \"fields\": [\n    {\n      \"column\": \"Rank\",\n      \"properties\": {\n        \"dtype\": \"string\",\n        \"num_unique_values\": 5,\n        \"samples\": [\n          \"#324\",\n          \"#228\",\n          \"#349\"\n        ],\n        \"semantic_type\": \"\",\n        \"description\": \"\"\n      }\n    },\n    {\n      \"column\": \"Title\",\n      \"properties\": {\n        \"dtype\": \"string\",\n        \"num_unique_values\": 5,\n        \"samples\": [\n          \"Su Ji & U Ri \",\n          \"Jumong\",\n          \"The Brave Yong Su Jeong\"\n        ],\n        \"semantic_type\": \"\",\n        \"description\": \"\"\n      }\n    },\n    {\n      \"column\": \"Year of release\",\n      \"properties\": {\n        \"dtype\": \"number\",\n        \"std\": 7,\n        \"min\": 2006,\n        \"max\": 2024,\n        \"num_unique_values\": 4,\n        \"samples\": [\n          2024,\n          2006,\n          2013\n        ],\n        \"semantic_type\": \"\",\n        \"description\": \"\"\n      }\n    },\n    {\n      \"column\": \"Number of Episodes\",\n      \"properties\": {\n        \"dtype\": \"number\",\n        \"std\": 22,\n        \"min\": 81,\n        \"max\": 133,\n        \"num_unique_values\": 5,\n        \"samples\": [\n          128,\n          81,\n          124\n        ],\n        \"semantic_type\": \"\",\n        \"description\": \"\"\n      }\n    },\n    {\n      \"column\": \"Rating\",\n      \"properties\": {\n        \"dtype\": \"number\",\n        \"std\": 0.7382411530116701,\n        \"min\": 6.8,\n        \"max\": 8.6,\n        \"num_unique_values\": 4,\n        \"samples\": [\n          7.5,\n          8.6,\n          8.3\n        ],\n        \"semantic_type\": \"\",\n        \"description\": \"\"\n      }\n    },\n    {\n      \"column\": \"Description\",\n      \"properties\": {\n        \"dtype\": \"string\",\n        \"num_unique_values\": 5,\n        \"samples\": [\n          \"Jin Soo Ji is a superstar psychiatrist at Haedeul Hospital, juggling fame and a hectic schedule of TV shows, book tours, and fan events, leaving her with barely three hours of sleep a day. Her seemingly perfect life takes a turn when Chae Woo Ri, a new doctor, joins the team. Talented and driven by justice, Woo Ri sees Soo Ji as selfish and ambitious, sparking constant clashes. But when scandals force Soo Ji to disappear, Woo Ri begins to see her struggles in a new light. Can their rocky relationship take a surprising turn?\",\n          \"Jumong was the founder of Goguryeo in 37 BC. He was the son of General Hae Mo Su and Lady Yoo Hwa and was raised by King Geum Wa, who took him and his mother in when Hae Mo Su was believed to have been killed in an ambush by the Han Dynasty. So Seo No was a merchant's daughter who helped Jumong in realizing his dream to build a new country, and later became his second wife.\",\n          \"Yong Su Jeong has a refreshing charm, which helps her popularity as a home shopping host. She has many female fans from various age ranges due to her honest and straightforward personality. Things are different in her personal life. When she likes a man, she can't express her feelings or even make eye contact with him. Her romantic life is difficult because of this. She has a crush on Joo U Jin, who is the successor of the Masung Group. Yeo Ui Ju is a hard-working man despite his poor family background. He lives with his intellectually disabled mother. His priority is to make his mother happy. One day, he suddenly learns that he is the second grandson of the Masung Group and is stunned by the news. He gets involved with Yong Su Jeong. Meanwhile, Choi Hye Ra is selfish and greedy. If she wants something, she will try to get it no matter what and if anyone comes in her way, she will try to mercilessly punish them.\"\n        ],\n        \"semantic_type\": \"\",\n        \"description\": \"\"\n      }\n    },\n    {\n      \"column\": \"Genre\",\n      \"properties\": {\n        \"dtype\": \"string\",\n        \"num_unique_values\": 5,\n        \"samples\": [\n          \"Romance, Drama, Family, Medical\",\n          \"Adventure, Historical, Romance, Drama\",\n          \"Romance, Drama, Melodrama\"\n        ],\n        \"semantic_type\": \"\",\n        \"description\": \"\"\n      }\n    },\n    {\n      \"column\": \"Tags\",\n      \"properties\": {\n        \"dtype\": \"string\",\n        \"num_unique_values\": 5,\n        \"samples\": [\n          \": Enemies To Lovers, Nice Male Lead, Love Triangle, Estranged Sibling, Ex Comes Back, Half-Sibling Rivalry, Strategic Planning Director Male Lead, Jealous Sibling, Resident Doctor Female Lead, Bickering Mains' Relationship \",\n          \"Leadership, Strong Female Lead, Power Struggle, Goguryeo Dynasty, War, Jumong, Father-Son Relationship, Archery, Royalty, Han Dynasty\",\n          \"Guest House Setting, Adoptive Father-Adoptive Daughter Relationship, Death Of A Mother, Chairman/Chairwoman Supporting Character, Heir Male Lead, Greedy Female Lead, Half-brothers' Relationship, Brothers' Relationship, Honest Female Lead, Mother-in-law - Daughter-in-law Relationship \"\n        ],\n        \"semantic_type\": \"\",\n        \"description\": \"\"\n      }\n    },\n    {\n      \"column\": \"Actors\",\n      \"properties\": {\n        \"dtype\": \"string\",\n        \"num_unique_values\": 5,\n        \"samples\": [\n          \"Ham Eun Jung, Baek Sung Hyun, Oh Hyun Kyung, Kang Byul, Shin Jung Yoon\",\n          \"Song Il Gook, Han Hye Jin, Kim Seung Soo, Jeon Kwang Ryul, Oh Yeon Soo, Song Ji Hyo\",\n          \"Uhm Hyun Kyung, Seo Joon Young, Im Ju Eun, Kwon Hwa Woon\"\n        ],\n        \"semantic_type\": \"\",\n        \"description\": \"\"\n      }\n    }\n  ]\n}"
            }
          },
          "metadata": {},
          "execution_count": 51
        }
      ]
    },
    {
      "cell_type": "markdown",
      "source": [
        "### The drama \"Ugly Alert\" has the highest number of episodes with a total of 133.\n",
        "\n",
        "\n",
        "---\n",
        "\n"
      ],
      "metadata": {
        "id": "FpfSSHIm0aUy"
      }
    },
    {
      "cell_type": "code",
      "source": [
        "df['Rank'] = df['Rank'].astype('category')\n",
        "df['Title'] = df['Title'].astype('category')"
      ],
      "metadata": {
        "id": "g8aNwREfqU-L"
      },
      "execution_count": null,
      "outputs": []
    },
    {
      "cell_type": "markdown",
      "source": [
        "# Rating"
      ],
      "metadata": {
        "id": "KnI2ScH_rt7E"
      }
    },
    {
      "cell_type": "code",
      "source": [
        "print(f\"Average Rating: {df['Rating'].mean():.2f}\")"
      ],
      "metadata": {
        "colab": {
          "base_uri": "https://localhost:8080/"
        },
        "id": "BH80H7Z01GVd",
        "outputId": "01ead9e4-38b3-4a39-a023-342fb2e94a35"
      },
      "execution_count": null,
      "outputs": [
        {
          "output_type": "stream",
          "name": "stdout",
          "text": [
            "Average Rating: 8.36\n"
          ]
        }
      ]
    },
    {
      "cell_type": "code",
      "source": [
        "plt.figure(figsize=(10,5))\n",
        "sns.histplot(df['Rating'], bins=20, kde=True, color='skyblue')\n",
        "plt.xlabel(\"Rating\")\n",
        "plt.ylabel(\"Count\")\n",
        "plt.title(\"Distribution of K-Drama Ratings\")\n",
        "plt.show()"
      ],
      "metadata": {
        "colab": {
          "base_uri": "https://localhost:8080/",
          "height": 487
        },
        "id": "KdGK7USHYqaU",
        "outputId": "90535920-601a-4d73-f213-6f456446613b"
      },
      "execution_count": null,
      "outputs": [
        {
          "output_type": "display_data",
          "data": {
            "text/plain": [
              "<Figure size 1000x500 with 1 Axes>"
            ],
            "image/png": "[encoded data removed]"
          },
          "metadata": {}
        }
      ]
    },
    {
      "cell_type": "markdown",
      "source": [
        "The average rating is 8.3 to 8.4"
      ],
      "metadata": {
        "id": "GC9uOlqH1JnQ"
      }
    },
    {
      "cell_type": "markdown",
      "source": [
        "# Number of Episode"
      ],
      "metadata": {
        "id": "KG5BAar1sYLZ"
      }
    },
    {
      "cell_type": "code",
      "source": [
        "df['Number of Episodes'].plot(kind='hist', bins=20, color='salmon', edgecolor='black', figsize=(6,4), title=\"Distribution of Number of Episodes\")\n",
        "plt.xlabel(\"Episodes\")\n",
        "plt.show()"
      ],
      "metadata": {
        "colab": {
          "base_uri": "https://localhost:8080/",
          "height": 410
        },
        "id": "acd9p5VSsgHj",
        "outputId": "339763b9-2b47-47e1-8a7c-69ac4a08bbfa"
      },
      "execution_count": null,
      "outputs": [
        {
          "output_type": "display_data",
          "data": {
            "text/plain": [
              "<Figure size 600x400 with 1 Axes>"
            ],
            "image/png": "[encoded data removed]"
          },
          "metadata": {}
        }
      ]
    },
    {
      "cell_type": "markdown",
      "source": [
        "# year of release"
      ],
      "metadata": {
        "id": "DL-78pKcsuOT"
      }
    },
    {
      "cell_type": "code",
      "source": [
        "df['Year of release'].value_counts().sort_index().plot(kind='bar', figsize=(12,5), title=\"Number of Dramas Released Per Year\")\n",
        "plt.ylabel(\"Count\")\n",
        "plt.xlabel(\"Year\")\n",
        "plt.show()"
      ],
      "metadata": {
        "colab": {
          "base_uri": "https://localhost:8080/",
          "height": 508
        },
        "id": "9cG0spMOsysq",
        "outputId": "08c76c0a-1159-4bfd-f1a4-10c76e66e52c"
      },
      "execution_count": null,
      "outputs": [
        {
          "output_type": "display_data",
          "data": {
            "text/plain": [
              "<Figure size 1200x500 with 1 Axes>"
            ],
            "image/png": "[encoded data removed]"
          },
          "metadata": {}
        }
      ]
    },
    {
      "cell_type": "markdown",
      "source": [
        "2024 year is at the top with most dramas.\n",
        "\n",
        "---\n",
        "\n"
      ],
      "metadata": {
        "id": "UIGu7aiX1uiK"
      }
    },
    {
      "cell_type": "markdown",
      "source": [
        "**Categorical Columns**\n",
        "# Genre"
      ],
      "metadata": {
        "id": "rvQoiyRKuHQv"
      }
    },
    {
      "cell_type": "code",
      "source": [
        "from collections import Counter\n",
        "\n",
        "# Clean and normalize genre strings\n",
        "all_genres = ','.join(df['Genre']).split(',')\n",
        "all_genres = [genre.strip().title() for genre in all_genres]  # Remove extra spaces and title-case each genre\n",
        "\n",
        "# Count genres\n",
        "genre_counts = Counter(all_genres)\n",
        "\n",
        "# Convert to DataFrame\n",
        "genre_df = pd.DataFrame(genre_counts.items(), columns=['Genre', 'Count']).sort_values(by='Count', ascending=False)\n",
        "\n",
        "# Plot\n",
        "\n",
        "plt.figure(figsize=(15,12))\n",
        "sns.barplot(\n",
        "    y=\"Genre\",\n",
        "    x=\"Count\",\n",
        "    data=genre_df,\n",
        "    palette=\"viridis\",\n",
        "    hue=\"Genre\",\n",
        "    legend=False\n",
        ")\n",
        "plt.xlabel(\"Count\")\n",
        "plt.ylabel(\"Genre\")\n",
        "plt.title(\"Most Common Genres in K-Dramas\")\n",
        "plt.show()"
      ],
      "metadata": {
        "colab": {
          "base_uri": "https://localhost:8080/",
          "height": 950
        },
        "id": "RpdxTaULae_k",
        "outputId": "36c18b74-c829-4092-c4b8-1462a43e5502"
      },
      "execution_count": null,
      "outputs": [
        {
          "output_type": "display_data",
          "data": {
            "text/plain": [
              "<Figure size 1500x1200 with 1 Axes>"
            ],
            "image/png": "[encoded data removed]"
          },
          "metadata": {}
        }
      ]
    },
    {
      "cell_type": "markdown",
      "source": [
        "The most popular genre is romance."
      ],
      "metadata": {
        "id": "E8cSVGwc1_Vj"
      }
    },
    {
      "cell_type": "code",
      "source": [
        "\n",
        "\n",
        "#  Split and clean actor names\n",
        "all_actors = ','.join(df['Actors'].dropna()).split(',')\n",
        "all_actors = [a.strip() for a in all_actors if a.strip() != '']\n",
        "\n",
        "#  Count frequencies\n",
        "actor_counts = pd.Series(all_actors).value_counts().reset_index()\n",
        "actor_counts.columns = [\"Actor\", \"Count\"]\n",
        "\n",
        "# Show top 20 actors only\n",
        "actor_df = actor_counts.head(25)\n",
        "\n",
        "#  Plot\n",
        "plt.figure(figsize=(15, 12))\n",
        "plt.barh(actor_df[\"Actor\"], actor_df[\"Count\"], color=\"purple\")  # horizontal bar\n",
        "plt.xlabel(\"Count\")\n",
        "plt.ylabel(\"Actor\")\n",
        "plt.title(\"Most Common Actors in K-Dramas\")\n",
        "plt.gca().invert_yaxis()  # so highest appears at top\n",
        "plt.show()\n"
      ],
      "metadata": {
        "colab": {
          "base_uri": "https://localhost:8080/",
          "height": 940
        },
        "id": "yV07xs-MlxmH",
        "outputId": "05d3d464-cb57-40d3-d41b-986340d72039"
      },
      "execution_count": null,
      "outputs": [
        {
          "output_type": "display_data",
          "data": {
            "text/plain": [
              "<Figure size 1500x1200 with 1 Axes>"
            ],
            "image/png": "[encoded data removed]"
          },
          "metadata": {}
        }
      ]
    },
    {
      "cell_type": "markdown",
      "source": [
        "Most Frequently Appearing Actor is  **Ahn Bo Hyun**"
      ],
      "metadata": {
        "id": "3z34GR4f2HS9"
      }
    },
    {
      "cell_type": "markdown",
      "source": [
        "# **Bivariate Analysis**"
      ],
      "metadata": {
        "id": "NSkXPdZJnwab"
      }
    },
    {
      "cell_type": "code",
      "source": [
        " rating_by_year.plot(x=\"Year of release\", y=\"Rating\", kind=\"line\", marker=\"o\", figsize=(10,5))"
      ],
      "metadata": {
        "colab": {
          "base_uri": "https://localhost:8080/",
          "height": 482
        },
        "id": "t8KAxpZ1n1OJ",
        "outputId": "b77eb2f7-1961-4f84-ae2c-edef6b30c33f"
      },
      "execution_count": null,
      "outputs": [
        {
          "output_type": "execute_result",
          "data": {
            "text/plain": [
              "<Axes: xlabel='Year of release'>"
            ]
          },
          "metadata": {},
          "execution_count": 75
        },
        {
          "output_type": "display_data",
          "data": {
            "text/plain": [
              "<Figure size 1000x500 with 1 Axes>"
            ],
            "image/png": "[encoded data removed]"
          },
          "metadata": {}
        }
      ]
    },
    {
      "cell_type": "code",
      "source": [
        "plt.figure(figsize=(10,6))\n",
        "sns.scatterplot(x=\"Number of Episodes\", y=\"Rating\", data=df, alpha=0.7)\n",
        "plt.title(\"Rating vs Number of Episodes\")\n",
        "plt.show()"
      ],
      "metadata": {
        "colab": {
          "base_uri": "https://localhost:8080/",
          "height": 564
        },
        "id": "68YMeoioqpu6",
        "outputId": "17603805-7b62-488e-b774-fa4b6e577b81"
      },
      "execution_count": null,
      "outputs": [
        {
          "output_type": "display_data",
          "data": {
            "text/plain": [
              "<Figure size 1000x600 with 1 Axes>"
            ],
            "image/png": "[encoded data removed]"
          },
          "metadata": {}
        }
      ]
    },
    {
      "cell_type": "markdown",
      "source": [
        "As the number of episodes increases, ratings tend to decrease slightly, but the effect is so small that it’s almost no relationship."
      ],
      "metadata": {
        "id": "TpTU7Dnf3qIU"
      }
    },
    {
      "cell_type": "code",
      "source": [
        "# Handle multiple genres if split by comma\n",
        "df[\"Genre_split\"] = df[\"Genre\"].str.split(\",\")\n",
        "\n",
        "# Explode into separate rows\n",
        "genre_exploded = df.explode(\"Genre_split\")\n",
        "\n",
        "avg_rating_genre = genre_exploded.groupby(\"Genre_split\")[\"Rating\"].mean().sort_values(ascending=False)\n",
        "print(avg_rating_genre.head(10))"
      ],
      "metadata": {
        "colab": {
          "base_uri": "https://localhost:8080/"
        },
        "id": "8YXY1VNZrowA",
        "outputId": "eebba138-13ed-4f14-95a1-bcee2389f545"
      },
      "execution_count": null,
      "outputs": [
        {
          "output_type": "stream",
          "name": "stdout",
          "text": [
            "Genre_split\n",
            "Military       8.950000\n",
            "  Crime        8.842857\n",
            "  Family       8.827273\n",
            "  Youth        8.825000\n",
            " Melodrama     8.800000\n",
            "  Life         8.800000\n",
            "  Horror       8.800000\n",
            "  Military     8.800000\n",
            "Friendship     8.788889\n",
            "  Medical      8.766667\n",
            "Name: Rating, dtype: float64\n"
          ]
        }
      ]
    },
    {
      "cell_type": "markdown",
      "source": [
        "Among all genres, Military dramas received the highest average rating (8.95)\n",
        "\n",
        "---\n",
        "\n"
      ],
      "metadata": {
        "id": "FMsgiels37tZ"
      }
    },
    {
      "cell_type": "code",
      "source": [
        "df[\"Actors_split\"] = df[\"Actors\"].str.split(\",\")\n",
        "\n",
        "# Explode into separate rows\n",
        "actor_exploded = df.explode(\"Actors_split\")\n",
        "\n",
        "# Strip spaces\n",
        "actor_exploded[\"Actors_split\"] = actor_exploded[\"Actors_split\"].str.strip()\n",
        "\n",
        "# Count average rating\n",
        "avg_rating_actor = (actor_exploded.groupby(\"Actors_split\")[\"Rating\"]\n",
        "                    .mean()\n",
        "                    .sort_values(ascending=False))\n",
        "\n",
        "print(avg_rating_actor.head(10))"
      ],
      "metadata": {
        "colab": {
          "base_uri": "https://localhost:8080/"
        },
        "id": "eSdM7uipvTmT",
        "outputId": "8d68fe1d-fd43-48c8-b3fc-30ccd0cb57b7"
      },
      "execution_count": null,
      "outputs": [
        {
          "output_type": "stream",
          "name": "stdout",
          "text": [
            "Actors_split\n",
            "Ha Yi-Chan         9.2\n",
            "Lee Moon Shik      9.2\n",
            "Yoon Chung-A       9.2\n",
            "Ha Eun-Gyeol       9.2\n",
            "Jung Young Joo     9.2\n",
            "Choi Se-Kyung      9.2\n",
            "Kim Su Gyeom       9.1\n",
            "Song Sae Byuk      9.1\n",
            "Jeong Jae Kwang    9.1\n",
            "Lee Yeon           9.1\n",
            "Name: Rating, dtype: float64\n"
          ]
        }
      ]
    },
    {
      "cell_type": "markdown",
      "source": [
        "Actors such as Ha Yi-Chan, Lee Moon Shik, and Yoon Chung-A stand out with the highest average drama ratings (9.2),\n",
        "\n",
        "indicating strong audience approval of their performances"
      ],
      "metadata": {
        "id": "GtloOctm4JsG"
      }
    },
    {
      "cell_type": "markdown",
      "source": [
        "# **Multivariate Analysis**"
      ],
      "metadata": {
        "id": "N-UeMubEvbQ1"
      }
    },
    {
      "cell_type": "code",
      "source": [
        "print(df[[\"Rating\",\"Number of Episodes\",\"Year of release\"]].corr())"
      ],
      "metadata": {
        "colab": {
          "base_uri": "https://localhost:8080/"
        },
        "id": "5V67ElRYvguP",
        "outputId": "54b6b7ca-0404-449f-c6f6-ea0667ee5450"
      },
      "execution_count": null,
      "outputs": [
        {
          "output_type": "stream",
          "name": "stdout",
          "text": [
            "                      Rating  Number of Episodes  Year of release\n",
            "Rating              1.000000           -0.075091        -0.347643\n",
            "Number of Episodes -0.075091            1.000000        -0.276955\n",
            "Year of release    -0.347643           -0.276955         1.000000\n"
          ]
        }
      ]
    },
    {
      "cell_type": "markdown",
      "source": [
        "Newer dramas has fewer episodes\n",
        "\n",
        "Newer dramas has slightly lower average ratings."
      ],
      "metadata": {
        "id": "Kbme4kGowxIb"
      }
    },
    {
      "cell_type": "markdown",
      "source": [
        "\n",
        "\n",
        "---\n",
        "# **Conclusion**\n",
        "---\n",
        "---\n",
        "\n",
        "**Production Trend:**\n",
        "\n",
        "*   There has been a noticeable increase in the number of dramas released,\n",
        "*   This indicates growing interest and investment in the industry, both domestically and internationally.\n",
        "\n",
        "---\n",
        "\n",
        "*   Overall, the EDA shows that K-Dramas maintain strong audience ratings,averaging around 8.3–8.4.\n",
        "*   Romance is the most popular genre, while Military dramas achieve the highest ratings.\n",
        "\n",
        "*   Although newer dramas are shorter and slightly lower-rated, actors like Ha Yi-Chan, Lee Moon Shik, and Yoon Chung-A stand out for consistently high-rated performances\n",
        "\n",
        "---\n",
        "\n",
        "**Episodes vs. Ratings**:\n",
        "*  There is no clear correlation between the number of episodes and ratings, meaning storytelling quality likely outweighs length in driving viewer appreciation.\n",
        "---\n",
        "\n",
        "---\n",
        "\n",
        "\n",
        "\n",
        "\n"
      ],
      "metadata": {
        "id": "AXkN9BS05cxG"
      }
    }
  ]
}